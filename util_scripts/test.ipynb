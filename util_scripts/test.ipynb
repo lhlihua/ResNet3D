{
 "cells": [
  {
   "cell_type": "code",
   "execution_count": 1,
   "metadata": {},
   "outputs": [
    {
     "name": "stdout",
     "output_type": "stream",
     "text": [
      "1\n"
     ]
    }
   ],
   "source": [
    "import torch\n",
    "print(torch.cuda.device_count())"
   ]
  },
  {
   "cell_type": "code",
   "execution_count": 1,
   "metadata": {},
   "outputs": [],
   "source": [
    "from keras.layers import Dense,Dropout,Conv3D,Input,MaxPool3D,Flatten,Activation, ZeroPadding3D\n",
    "from keras.regularizers import l2\n",
    "from keras.models import Model, Sequential"
   ]
  },
  {
   "cell_type": "code",
   "execution_count": 3,
   "metadata": {},
   "outputs": [],
   "source": [
    "# 输入数据为 112×112 的图片，16帧， 3通道\n",
    "input_shape = (112,112,16,3)\n",
    "# 权重衰减率\n",
    "weight_decay = 0.005\n",
    "# 类型数量，我们使用UCF-101 为数据集，所以为101\n",
    "nb_classes = 21\n",
    "\n",
    "# 构建模型结构\n",
    "inputs = Input(input_shape)\n",
    "\n",
    "x = Conv3D(64,(3,3,3),strides=(1,1,1),padding='same',\n",
    "           activation='relu',kernel_regularizer=l2(weight_decay))(inputs)\n",
    "x = MaxPool3D((2,2,1),strides=(2,2,1),padding='same')(x)\n",
    "\n",
    "x = Conv3D(128,(3,3,3),strides=(1,1,1),padding='same',\n",
    "           activation='relu',kernel_regularizer=l2(weight_decay))(x)\n",
    "x = MaxPool3D((2,2,2),strides=(2,2,2),padding='same')(x)\n",
    "\n",
    "x = Conv3D(128,(3,3,3),strides=(1,1,1),padding='same',\n",
    "           activation='relu',kernel_regularizer=l2(weight_decay))(x)\n",
    "x = MaxPool3D((2,2,2),strides=(2,2,2),padding='same')(x)\n",
    "\n",
    "x = Conv3D(256,(3,3,3),strides=(1,1,1),padding='same',\n",
    "           activation='relu',kernel_regularizer=l2(weight_decay))(x)\n",
    "x = MaxPool3D((2,2,2),strides=(2,2,2),padding='same')(x)\n",
    "\n",
    "x = Conv3D(256, (3, 3, 3), strides=(1, 1, 1), padding='same',\n",
    "           activation='relu',kernel_regularizer=l2(weight_decay))(x)\n",
    "x = MaxPool3D((2, 2, 2), strides=(2, 2, 2), padding='same')(x)\n",
    "\n",
    "x = Flatten()(x)\n",
    "x = Dense(2048,activation='relu',kernel_regularizer=l2(weight_decay))(x)\n",
    "x = Dropout(0.5)(x)\n",
    "x = Dense(2048,activation='relu',kernel_regularizer=l2(weight_decay))(x)\n",
    "x = Dropout(0.5)(x)\n",
    "x = Dense(nb_classes,kernel_regularizer=l2(weight_decay))(x)\n",
    "x = Activation('softmax')(x)\n",
    "\n",
    "model = Model(inputs, x)"
   ]
  },
  {
   "cell_type": "code",
   "execution_count": 4,
   "metadata": {},
   "outputs": [
    {
     "name": "stdout",
     "output_type": "stream",
     "text": [
      "Model: \"model_1\"\n",
      "_________________________________________________________________\n",
      " Layer (type)                Output Shape              Param #   \n",
      "=================================================================\n",
      " input_2 (InputLayer)        [(None, 112, 112, 16, 3)  0         \n",
      "                             ]                                   \n",
      "                                                                 \n",
      " conv3d_5 (Conv3D)           (None, 112, 112, 16, 64)  5248      \n",
      "                                                                 \n",
      " max_pooling3d_5 (MaxPooling  (None, 56, 56, 16, 64)   0         \n",
      " 3D)                                                             \n",
      "                                                                 \n",
      " conv3d_6 (Conv3D)           (None, 56, 56, 16, 128)   221312    \n",
      "                                                                 \n",
      " max_pooling3d_6 (MaxPooling  (None, 28, 28, 8, 128)   0         \n",
      " 3D)                                                             \n",
      "                                                                 \n",
      " conv3d_7 (Conv3D)           (None, 28, 28, 8, 128)    442496    \n",
      "                                                                 \n",
      " max_pooling3d_7 (MaxPooling  (None, 14, 14, 4, 128)   0         \n",
      " 3D)                                                             \n",
      "                                                                 \n",
      " conv3d_8 (Conv3D)           (None, 14, 14, 4, 256)    884992    \n",
      "                                                                 \n",
      " max_pooling3d_8 (MaxPooling  (None, 7, 7, 2, 256)     0         \n",
      " 3D)                                                             \n",
      "                                                                 \n",
      " conv3d_9 (Conv3D)           (None, 7, 7, 2, 256)      1769728   \n",
      "                                                                 \n",
      " max_pooling3d_9 (MaxPooling  (None, 4, 4, 1, 256)     0         \n",
      " 3D)                                                             \n",
      "                                                                 \n",
      " flatten_1 (Flatten)         (None, 4096)              0         \n",
      "                                                                 \n",
      " dense_3 (Dense)             (None, 2048)              8390656   \n",
      "                                                                 \n",
      " dropout_2 (Dropout)         (None, 2048)              0         \n",
      "                                                                 \n",
      " dense_4 (Dense)             (None, 2048)              4196352   \n",
      "                                                                 \n",
      " dropout_3 (Dropout)         (None, 2048)              0         \n",
      "                                                                 \n",
      " dense_5 (Dense)             (None, 21)                43029     \n",
      "                                                                 \n",
      " activation_1 (Activation)   (None, 21)                0         \n",
      "                                                                 \n",
      "=================================================================\n",
      "Total params: 15,953,813\n",
      "Trainable params: 15,953,813\n",
      "Non-trainable params: 0\n",
      "_________________________________________________________________\n"
     ]
    }
   ],
   "source": [
    "model.summary()"
   ]
  },
  {
   "cell_type": "code",
   "execution_count": 5,
   "metadata": {},
   "outputs": [
    {
     "data": {
      "text/plain": [
       "<KerasTensor: shape=(None, 112, 112, 16, 3) dtype=float32 (created by layer 'input_2')>"
      ]
     },
     "execution_count": 5,
     "metadata": {},
     "output_type": "execute_result"
    }
   ],
   "source": [
    "model.input"
   ]
  },
  {
   "attachments": {},
   "cell_type": "markdown",
   "metadata": {},
   "source": [
    "shape = (batch size, width, height, frames, channels)"
   ]
  },
  {
   "cell_type": "code",
   "execution_count": 6,
   "metadata": {},
   "outputs": [],
   "source": [
    "# 引用必要的库\n",
    "from keras.optimizers import SGD,Adam\n",
    "from keras.utils import np_utils\n",
    "\n",
    "import numpy as np\n",
    "import random\n",
    "import cv2\n",
    "\n",
    "import matplotlib.pyplot as plt\n",
    "import os\n",
    "\n",
    "# # 自定义callbacks\n",
    "# from schedules import onetenth_4_8_12"
   ]
  },
  {
   "cell_type": "code",
   "execution_count": 7,
   "metadata": {},
   "outputs": [],
   "source": [
    "img_path = 'E:\\\\train_data\\\\jpgs\\\\'  # 图片文件存储位置\n",
    "results_path = 'E:\\\\train_data\\\\results\\\\'  # 训练结果保存位置\n",
    "if not os.path.exists(results_path):\n",
    "    os.mkdir(results_path)"
   ]
  },
  {
   "cell_type": "code",
   "execution_count": 8,
   "metadata": {},
   "outputs": [
    {
     "name": "stdout",
     "output_type": "stream",
     "text": [
      "训练集为：\n",
      "['v_ApplyEyeMakeup_g09_c06', 'v_ApplyEyeMakeup_g24_c05', 'v_ApplyEyeMakeup_g09_c05', 'v_ApplyEyeMakeup_g07_c01', 'v_ApplyEyeMakeup_g17_c05', 'v_ApplyEyeMakeup_g18_c04', 'v_ApplyEyeMakeup_g10_c03', 'v_ApplyEyeMakeup_g10_c01', 'v_ApplyEyeMakeup_g05_c01', 'v_ApplyEyeMakeup_g18_c01', 'v_ApplyEyeMakeup_g16_c02', 'v_ApplyEyeMakeup_g15_c02', 'v_ApplyEyeMakeup_g16_c03', 'v_ApplyEyeMakeup_g12_c04', 'v_ApplyEyeMakeup_g09_c03', 'v_ApplyEyeMakeup_g23_c01', 'v_ApplyEyeMakeup_g19_c01', 'v_ApplyEyeMakeup_g04_c07', 'v_ApplyEyeMakeup_g02_c02', 'v_ApplyEyeMakeup_g23_c06', 'v_ApplyEyeMakeup_g08_c05', 'v_ApplyEyeMakeup_g13_c03', 'v_ApplyEyeMakeup_g12_c01', 'v_ApplyEyeMakeup_g17_c04', 'v_ApplyEyeMakeup_g10_c02', 'v_ApplyEyeMakeup_g14_c05', 'v_ApplyEyeMakeup_g07_c07', 'v_ApplyEyeMakeup_g22_c02', 'v_ApplyEyeMakeup_g25_c04', 'v_ApplyEyeMakeup_g19_c03', 'v_ApplyEyeMakeup_g12_c02', 'v_ApplyEyeMakeup_g15_c06', 'v_ApplyEyeMakeup_g20_c01', 'v_ApplyEyeMakeup_g09_c02', 'v_ApplyEyeMakeup_g21_c03', 'v_ApplyEyeMakeup_g25_c01', 'v_ApplyEyeMakeup_g01_c06', 'v_ApplyEyeMakeup_g23_c04', 'v_ApplyEyeMakeup_g18_c02', 'v_ApplyEyeMakeup_g22_c04', 'v_ApplyEyeMakeup_g19_c02', 'v_ApplyEyeMakeup_g04_c04', 'v_ApplyEyeMakeup_g21_c02', 'v_ApplyEyeMakeup_g17_c01', 'v_ApplyEyeMakeup_g21_c01', 'v_ApplyEyeMakeup_g13_c04', 'v_ApplyEyeMakeup_g08_c03', 'v_ApplyEyeMakeup_g10_c05', 'v_ApplyEyeMakeup_g06_c01', 'v_ApplyEyeMakeup_g03_c05', 'v_ApplyEyeMakeup_g01_c01', 'v_ApplyEyeMakeup_g13_c01', 'v_ApplyEyeMakeup_g22_c01', 'v_ApplyEyeMakeup_g24_c02', 'v_ApplyEyeMakeup_g04_c03', 'v_ApplyEyeMakeup_g04_c01', 'v_ApplyEyeMakeup_g06_c05', 'v_ApplyEyeMakeup_g19_c04', 'v_ApplyEyeMakeup_g07_c05', 'v_ApplyEyeMakeup_g24_c03', 'v_ApplyEyeMakeup_g11_c04', 'v_ApplyEyeMakeup_g16_c01', 'v_ApplyEyeMakeup_g14_c02', 'v_ApplyEyeMakeup_g04_c05', 'v_ApplyEyeMakeup_g09_c07', 'v_ApplyEyeMakeup_g14_c01', 'v_ApplyEyeMakeup_g24_c07', 'v_ApplyEyeMakeup_g08_c04', 'v_ApplyEyeMakeup_g13_c06', 'v_ApplyEyeMakeup_g15_c04', 'v_ApplyEyeMakeup_g05_c03', 'v_ApplyEyeMakeup_g20_c05', 'v_ApplyEyeMakeup_g12_c05', 'v_ApplyEyeMakeup_g07_c03', 'v_ApplyEyeMakeup_g11_c02', 'v_ApplyEyeMakeup_g12_c03', 'v_ApplyEyeMakeup_g23_c02', 'v_ApplyEyeMakeup_g23_c05', 'v_ApplyEyeMakeup_g17_c02', 'v_ApplyEyeMakeup_g03_c04', 'v_ApplyEyeMakeup_g16_c04', 'v_ApplyEyeMakeup_g13_c02', 'v_ApplyEyeMakeup_g03_c02', 'v_ApplyEyeMakeup_g03_c01', 'v_ApplyEyeMakeup_g06_c03', 'v_ApplyEyeMakeup_g24_c06', 'v_ApplyEyeMakeup_g22_c03', 'v_ApplyEyeMakeup_g13_c05', 'v_ApplyEyeMakeup_g05_c07', 'v_ApplyEyeMakeup_g24_c04', 'v_ApplyEyeMakeup_g11_c05', 'v_ApplyEyeMakeup_g01_c04', 'v_ApplyEyeMakeup_g20_c04', 'v_ApplyEyeMakeup_g09_c04', 'v_ApplyEyeMakeup_g14_c03', 'v_ApplyEyeMakeup_g24_c01', 'v_ApplyEyeMakeup_g02_c01', 'v_ApplyEyeMakeup_g05_c06', 'v_ApplyEyeMakeup_g18_c05', 'v_ApplyEyeMakeup_g15_c01', 'v_ApplyEyeMakeup_g25_c07', 'v_ApplyEyeMakeup_g01_c05', 'v_ApplyEyeMakeup_g15_c07', 'v_ApplyEyeMakeup_g11_c03', 'v_ApplyEyeMakeup_g05_c02', 'v_ApplyEyeMakeup_g03_c06', 'v_ApplyEyeMakeup_g15_c03', 'v_ApplyEyeMakeup_g12_c06', 'v_ApplyEyeMakeup_g04_c06', 'v_ApplyEyeMakeup_g05_c04', 'v_ApplyEyeMakeup_g03_c03', 'v_ApplyEyeMakeup_g21_c04', 'v_ApplyEyeMakeup_g22_c05', 'v_ApplyEyeMakeup_g09_c01', 'v_ApplyEyeMakeup_g06_c07', 'v_ApplyEyeMakeup_g20_c03', 'v_ApplyLipstick_g02_c03', 'v_ApplyLipstick_g19_c04', 'v_ApplyLipstick_g09_c04', 'v_ApplyLipstick_g15_c04', 'v_ApplyLipstick_g24_c02', 'v_ApplyLipstick_g13_c02', 'v_ApplyLipstick_g04_c05', 'v_ApplyLipstick_g01_c04', 'v_ApplyLipstick_g05_c02', 'v_ApplyLipstick_g04_c02', 'v_ApplyLipstick_g17_c05', 'v_ApplyLipstick_g24_c04', 'v_ApplyLipstick_g23_c03', 'v_ApplyLipstick_g07_c01', 'v_ApplyLipstick_g15_c03', 'v_ApplyLipstick_g10_c03', 'v_ApplyLipstick_g16_c01', 'v_ApplyLipstick_g22_c06', 'v_ApplyLipstick_g07_c04', 'v_ApplyLipstick_g25_c01', 'v_ApplyLipstick_g22_c02', 'v_ApplyLipstick_g25_c03', 'v_ApplyLipstick_g11_c04', 'v_ApplyLipstick_g20_c01', 'v_ApplyLipstick_g08_c04', 'v_ApplyLipstick_g12_c01', 'v_ApplyLipstick_g17_c02', 'v_ApplyLipstick_g17_c01', 'v_ApplyLipstick_g05_c04', 'v_ApplyLipstick_g04_c04', 'v_ApplyLipstick_g10_c04', 'v_ApplyLipstick_g02_c01', 'v_ApplyLipstick_g22_c01', 'v_ApplyLipstick_g11_c01', 'v_ApplyLipstick_g08_c02', 'v_ApplyLipstick_g17_c03', 'v_ApplyLipstick_g10_c01', 'v_ApplyLipstick_g20_c02', 'v_ApplyLipstick_g23_c01', 'v_ApplyLipstick_g06_c01', 'v_ApplyLipstick_g12_c05', 'v_ApplyLipstick_g09_c02', 'v_ApplyLipstick_g18_c01', 'v_ApplyLipstick_g22_c04', 'v_ApplyLipstick_g14_c01', 'v_ApplyLipstick_g15_c05', 'v_ApplyLipstick_g08_c01', 'v_ApplyLipstick_g11_c02', 'v_ApplyLipstick_g05_c03', 'v_ApplyLipstick_g15_c02', 'v_ApplyLipstick_g23_c02', 'v_ApplyLipstick_g07_c03', 'v_ApplyLipstick_g23_c04', 'v_ApplyLipstick_g19_c03', 'v_ApplyLipstick_g01_c02', 'v_ApplyLipstick_g03_c01', 'v_ApplyLipstick_g19_c01', 'v_ApplyLipstick_g15_c01', 'v_ApplyLipstick_g20_c05', 'v_ApplyLipstick_g03_c03', 'v_ApplyLipstick_g21_c03', 'v_ApplyLipstick_g04_c01', 'v_ApplyLipstick_g16_c04', 'v_ApplyLipstick_g21_c01', 'v_ApplyLipstick_g22_c07', 'v_ApplyLipstick_g12_c04', 'v_ApplyLipstick_g24_c05', 'v_ApplyLipstick_g01_c05', 'v_ApplyLipstick_g05_c01', 'v_ApplyLipstick_g02_c04', 'v_ApplyLipstick_g04_c03', 'v_ApplyLipstick_g16_c03', 'v_ApplyLipstick_g21_c02', 'v_ApplyLipstick_g02_c02', 'v_ApplyLipstick_g22_c05', 'v_ApplyLipstick_g25_c04', 'v_ApplyLipstick_g07_c02', 'v_ApplyLipstick_g20_c04', 'v_ApplyLipstick_g06_c04', 'v_ApplyLipstick_g24_c01', 'v_ApplyLipstick_g11_c03', 'v_ApplyLipstick_g06_c03', 'v_ApplyLipstick_g21_c04', 'v_ApplyLipstick_g14_c02', 'v_ApplyLipstick_g03_c02', 'v_ApplyLipstick_g06_c02', 'v_ApplyLipstick_g09_c01', 'v_ApplyLipstick_g12_c02', 'v_Archery_g01_c03', 'v_Archery_g17_c03', 'v_Archery_g21_c02', 'v_Archery_g20_c04', 'v_Archery_g23_c06', 'v_Archery_g10_c03', 'v_Archery_g03_c04', 'v_Archery_g15_c02', 'v_Archery_g04_c04', 'v_Archery_g12_c04', 'v_Archery_g19_c01', 'v_Archery_g08_c01', 'v_Archery_g18_c05', 'v_Archery_g11_c03', 'v_Archery_g04_c02', 'v_Archery_g12_c01', 'v_Archery_g16_c03', 'v_Archery_g21_c03', 'v_Archery_g18_c07', 'v_Archery_g08_c04', 'v_Archery_g06_c01', 'v_Archery_g01_c04', 'v_Archery_g15_c06', 'v_Archery_g09_c01', 'v_Archery_g13_c04', 'v_Archery_g18_c02', 'v_Archery_g19_c02', 'v_Archery_g07_c04', 'v_Archery_g10_c07', 'v_Archery_g02_c03', 'v_Archery_g17_c04', 'v_Archery_g04_c03', 'v_Archery_g08_c03', 'v_Archery_g17_c02', 'v_Archery_g07_c06', 'v_Archery_g14_c03', 'v_Archery_g08_c05', 'v_Archery_g05_c03', 'v_Archery_g18_c04', 'v_Archery_g20_c05', 'v_Archery_g01_c01', 'v_Archery_g16_c02', 'v_Archery_g12_c03', 'v_Archery_g06_c05', 'v_Archery_g10_c02', 'v_Archery_g06_c06', 'v_Archery_g18_c03', 'v_Archery_g13_c05', 'v_Archery_g02_c06', 'v_Archery_g22_c05', 'v_Archery_g09_c04', 'v_Archery_g03_c05', 'v_Archery_g24_c05', 'v_Archery_g24_c01', 'v_Archery_g11_c06', 'v_Archery_g07_c02', 'v_Archery_g19_c04', 'v_Archery_g25_c06', 'v_Archery_g13_c06', 'v_Archery_g14_c04', 'v_Archery_g01_c02', 'v_Archery_g10_c05', 'v_Archery_g14_c02', 'v_Archery_g24_c06', 'v_Archery_g07_c01', 'v_Archery_g13_c01', 'v_Archery_g21_c04', 'v_Archery_g14_c01', 'v_Archery_g23_c04', 'v_Archery_g09_c03', 'v_Archery_g11_c05', 'v_Archery_g20_c03', 'v_Archery_g25_c07', 'v_Archery_g17_c01', 'v_Archery_g11_c01', 'v_Archery_g18_c01', 'v_Archery_g02_c07', 'v_Archery_g04_c05', 'v_Archery_g03_c03', 'v_Archery_g13_c03', 'v_Archery_g05_c05', 'v_Archery_g05_c02', 'v_Archery_g18_c06', 'v_Archery_g22_c03', 'v_Archery_g03_c02', 'v_Archery_g02_c01', 'v_Archery_g23_c03', 'v_Archery_g25_c03', 'v_Archery_g25_c04', 'v_Archery_g23_c05', 'v_Archery_g03_c01', 'v_Archery_g16_c01', 'v_Archery_g09_c02', 'v_Archery_g22_c01', 'v_Archery_g24_c04', 'v_Archery_g06_c04', 'v_Archery_g25_c02', 'v_Archery_g07_c03', 'v_Archery_g06_c02', 'v_Archery_g22_c04', 'v_Archery_g10_c01', 'v_Archery_g16_c04', 'v_Archery_g23_c01', 'v_Archery_g25_c01', 'v_Archery_g20_c02', 'v_Archery_g15_c01', 'v_Archery_g01_c07', 'v_Archery_g01_c06', 'v_Archery_g09_c07', 'v_Archery_g12_c02', 'v_Archery_g02_c05', 'v_Archery_g20_c01', 'v_Archery_g10_c04', 'v_Archery_g13_c02', 'v_Archery_g15_c03', 'v_Archery_g09_c05', 'v_BabyCrawling_g06_c03', 'v_BabyCrawling_g19_c02', 'v_BabyCrawling_g03_c01', 'v_BabyCrawling_g23_c02', 'v_BabyCrawling_g18_c01', 'v_BabyCrawling_g18_c05', 'v_BabyCrawling_g20_c02', 'v_BabyCrawling_g10_c05', 'v_BabyCrawling_g06_c04', 'v_BabyCrawling_g06_c01', 'v_BabyCrawling_g23_c03', 'v_BabyCrawling_g20_c04', 'v_BabyCrawling_g22_c02', 'v_BabyCrawling_g23_c01', 'v_BabyCrawling_g20_c05', 'v_BabyCrawling_g16_c01', 'v_BabyCrawling_g05_c01', 'v_BabyCrawling_g02_c04', 'v_BabyCrawling_g12_c04', 'v_BabyCrawling_g09_c04', 'v_BabyCrawling_g22_c03', 'v_BabyCrawling_g07_c06', 'v_BabyCrawling_g05_c05', 'v_BabyCrawling_g22_c01', 'v_BabyCrawling_g19_c05', 'v_BabyCrawling_g06_c06', 'v_BabyCrawling_g09_c03', 'v_BabyCrawling_g12_c05', 'v_BabyCrawling_g06_c02', 'v_BabyCrawling_g10_c01', 'v_BabyCrawling_g20_c03', 'v_BabyCrawling_g12_c06', 'v_BabyCrawling_g01_c04', 'v_BabyCrawling_g02_c06', 'v_BabyCrawling_g02_c03', 'v_BabyCrawling_g21_c02', 'v_BabyCrawling_g24_c06', 'v_BabyCrawling_g14_c03', 'v_BabyCrawling_g03_c03', 'v_BabyCrawling_g02_c01', 'v_BabyCrawling_g09_c01', 'v_BabyCrawling_g07_c02', 'v_BabyCrawling_g07_c03', 'v_BabyCrawling_g14_c04', 'v_BabyCrawling_g04_c01', 'v_BabyCrawling_g24_c03', 'v_BabyCrawling_g08_c03', 'v_BabyCrawling_g14_c02', 'v_BabyCrawling_g21_c04', 'v_BabyCrawling_g16_c05', 'v_BabyCrawling_g22_c06', 'v_BabyCrawling_g25_c05', 'v_BabyCrawling_g11_c02', 'v_BabyCrawling_g12_c01', 'v_BabyCrawling_g23_c04', 'v_BabyCrawling_g19_c03', 'v_BabyCrawling_g10_c03', 'v_BabyCrawling_g17_c05', 'v_BabyCrawling_g22_c07', 'v_BabyCrawling_g13_c01', 'v_BabyCrawling_g20_c06', 'v_BabyCrawling_g19_c01', 'v_BabyCrawling_g09_c05', 'v_BabyCrawling_g07_c05', 'v_BabyCrawling_g16_c04', 'v_BabyCrawling_g03_c02', 'v_BabyCrawling_g07_c01', 'v_BabyCrawling_g13_c02', 'v_BabyCrawling_g24_c05', 'v_BabyCrawling_g15_c05', 'v_BabyCrawling_g16_c02', 'v_BabyCrawling_g14_c01', 'v_BabyCrawling_g13_c05', 'v_BabyCrawling_g10_c02', 'v_BabyCrawling_g17_c02', 'v_BabyCrawling_g04_c04', 'v_BabyCrawling_g25_c06', 'v_BabyCrawling_g17_c04', 'v_BabyCrawling_g24_c02', 'v_BabyCrawling_g07_c04', 'v_BabyCrawling_g16_c03', 'v_BabyCrawling_g12_c02', 'v_BabyCrawling_g13_c03', 'v_BabyCrawling_g15_c02', 'v_BabyCrawling_g22_c05', 'v_BabyCrawling_g04_c03', 'v_BabyCrawling_g02_c02', 'v_BabyCrawling_g21_c03', 'v_BabyCrawling_g16_c06', 'v_BabyCrawling_g08_c01', 'v_BabyCrawling_g25_c02', 'v_BabyCrawling_g20_c07', 'v_BabyCrawling_g02_c05', 'v_BabyCrawling_g11_c04', 'v_BabyCrawling_g13_c06', 'v_BabyCrawling_g17_c03', 'v_BabyCrawling_g05_c02', 'v_BabyCrawling_g08_c02', 'v_BabyCrawling_g18_c06', 'v_BabyCrawling_g15_c06', 'v_BabyCrawling_g17_c01', 'v_BabyCrawling_g01_c01', 'v_BabyCrawling_g04_c02', 'v_BabyCrawling_g15_c01', 'v_BalanceBeam_g03_c01', 'v_BalanceBeam_g10_c03', 'v_BalanceBeam_g07_c01', 'v_BalanceBeam_g16_c03', 'v_BalanceBeam_g16_c01', 'v_BalanceBeam_g12_c01', 'v_BalanceBeam_g09_c03', 'v_BalanceBeam_g06_c02', 'v_BalanceBeam_g04_c02', 'v_BalanceBeam_g18_c04', 'v_BalanceBeam_g20_c04', 'v_BalanceBeam_g01_c01', 'v_BalanceBeam_g21_c02', 'v_BalanceBeam_g23_c02', 'v_BalanceBeam_g06_c03', 'v_BalanceBeam_g16_c02', 'v_BalanceBeam_g21_c04', 'v_BalanceBeam_g03_c02', 'v_BalanceBeam_g19_c04', 'v_BalanceBeam_g01_c03', 'v_BalanceBeam_g10_c01', 'v_BalanceBeam_g22_c03', 'v_BalanceBeam_g24_c02', 'v_BalanceBeam_g25_c04', 'v_BalanceBeam_g11_c04', 'v_BalanceBeam_g17_c05', 'v_BalanceBeam_g06_c04', 'v_BalanceBeam_g06_c05', 'v_BalanceBeam_g17_c01', 'v_BalanceBeam_g05_c04', 'v_BalanceBeam_g18_c01', 'v_BalanceBeam_g07_c04', 'v_BalanceBeam_g01_c04', 'v_BalanceBeam_g03_c03', 'v_BalanceBeam_g25_c01', 'v_BalanceBeam_g21_c01', 'v_BalanceBeam_g24_c03', 'v_BalanceBeam_g23_c01', 'v_BalanceBeam_g08_c02', 'v_BalanceBeam_g14_c04', 'v_BalanceBeam_g08_c01', 'v_BalanceBeam_g14_c02', 'v_BalanceBeam_g14_c03', 'v_BalanceBeam_g18_c03', 'v_BalanceBeam_g23_c04', 'v_BalanceBeam_g14_c01', 'v_BalanceBeam_g13_c01', 'v_BalanceBeam_g25_c02', 'v_BalanceBeam_g20_c01', 'v_BalanceBeam_g02_c02', 'v_BalanceBeam_g19_c03', 'v_BalanceBeam_g07_c03', 'v_BalanceBeam_g25_c03', 'v_BalanceBeam_g09_c02', 'v_BalanceBeam_g03_c04', 'v_BalanceBeam_g13_c05', 'v_BalanceBeam_g04_c01', 'v_BalanceBeam_g24_c04', 'v_BalanceBeam_g22_c04', 'v_BalanceBeam_g11_c02', 'v_BalanceBeam_g08_c03', 'v_BalanceBeam_g23_c05', 'v_BalanceBeam_g13_c02', 'v_BalanceBeam_g06_c01', 'v_BalanceBeam_g08_c04', 'v_BalanceBeam_g01_c02', 'v_BalanceBeam_g15_c01', 'v_BalanceBeam_g12_c04', 'v_BalanceBeam_g20_c02', 'v_BalanceBeam_g22_c02', 'v_BalanceBeam_g12_c02', 'v_BalanceBeam_g12_c03', 'v_BalanceBeam_g17_c04', 'v_BalanceBeam_g09_c04', 'v_BalanceBeam_g06_c06', 'v_BalanceBeam_g15_c04', 'v_BalanceBeam_g02_c04', 'v_BalanceBeam_g24_c01', 'v_BalanceBeam_g05_c02', 'v_BalanceBeam_g19_c02', 'v_BalanceBeam_g21_c05', 'v_BalanceBeam_g13_c04', 'v_BalanceBeam_g02_c01', 'v_BalanceBeam_g11_c01', 'v_BandMarching_g10_c06', 'v_BandMarching_g09_c05', 'v_BandMarching_g06_c04', 'v_BandMarching_g25_c07', 'v_BandMarching_g07_c03', 'v_BandMarching_g25_c04', 'v_BandMarching_g15_c04', 'v_BandMarching_g02_c06', 'v_BandMarching_g07_c07', 'v_BandMarching_g16_c03', 'v_BandMarching_g17_c04', 'v_BandMarching_g12_c02', 'v_BandMarching_g02_c04', 'v_BandMarching_g05_c07', 'v_BandMarching_g16_c06', 'v_BandMarching_g03_c05', 'v_BandMarching_g19_c07', 'v_BandMarching_g15_c03', 'v_BandMarching_g03_c02', 'v_BandMarching_g24_c04', 'v_BandMarching_g13_c05', 'v_BandMarching_g17_c03', 'v_BandMarching_g10_c05', 'v_BandMarching_g01_c03', 'v_BandMarching_g15_c06', 'v_BandMarching_g14_c01', 'v_BandMarching_g12_c06', 'v_BandMarching_g23_c03', 'v_BandMarching_g11_c07', 'v_BandMarching_g08_c03', 'v_BandMarching_g11_c06', 'v_BandMarching_g08_c02', 'v_BandMarching_g12_c03', 'v_BandMarching_g06_c02', 'v_BandMarching_g14_c04', 'v_BandMarching_g22_c03', 'v_BandMarching_g19_c04', 'v_BandMarching_g16_c04', 'v_BandMarching_g13_c02', 'v_BandMarching_g17_c02', 'v_BandMarching_g17_c01', 'v_BandMarching_g23_c01', 'v_BandMarching_g16_c02', 'v_BandMarching_g19_c05', 'v_BandMarching_g23_c06', 'v_BandMarching_g18_c05', 'v_BandMarching_g13_c01', 'v_BandMarching_g01_c07', 'v_BandMarching_g11_c05', 'v_BandMarching_g02_c01', 'v_BandMarching_g10_c01', 'v_BandMarching_g05_c02', 'v_BandMarching_g01_c05', 'v_BandMarching_g09_c06', 'v_BandMarching_g25_c03', 'v_BandMarching_g16_c05', 'v_BandMarching_g01_c06', 'v_BandMarching_g05_c04', 'v_BandMarching_g20_c03', 'v_BandMarching_g11_c04', 'v_BandMarching_g02_c05', 'v_BandMarching_g04_c02', 'v_BandMarching_g04_c01', 'v_BandMarching_g05_c06', 'v_BandMarching_g07_c04', 'v_BandMarching_g23_c04', 'v_BandMarching_g11_c01', 'v_BandMarching_g15_c01', 'v_BandMarching_g24_c01', 'v_BandMarching_g03_c01', 'v_BandMarching_g11_c02', 'v_BandMarching_g19_c03', 'v_BandMarching_g24_c05', 'v_BandMarching_g15_c05', 'v_BandMarching_g24_c03', 'v_BandMarching_g02_c02', 'v_BandMarching_g18_c04', 'v_BandMarching_g03_c03', 'v_BandMarching_g01_c01', 'v_BandMarching_g01_c04', 'v_BandMarching_g25_c01', 'v_BandMarching_g02_c07', 'v_BandMarching_g08_c04', 'v_BandMarching_g07_c02', 'v_BandMarching_g22_c05', 'v_BandMarching_g07_c01', 'v_BandMarching_g19_c02', 'v_BandMarching_g23_c05', 'v_BandMarching_g14_c06', 'v_BandMarching_g07_c05', 'v_BandMarching_g10_c02', 'v_BandMarching_g16_c01', 'v_BandMarching_g14_c02', 'v_BandMarching_g14_c03', 'v_BandMarching_g12_c05', 'v_BandMarching_g14_c05', 'v_BandMarching_g20_c01', 'v_BandMarching_g04_c04', 'v_BandMarching_g23_c02', 'v_BandMarching_g12_c01', 'v_BandMarching_g05_c05', 'v_BandMarching_g20_c06', 'v_BandMarching_g21_c01', 'v_BandMarching_g09_c07', 'v_BandMarching_g08_c05', 'v_BandMarching_g07_c06', 'v_BandMarching_g21_c04', 'v_BandMarching_g09_c04', 'v_BandMarching_g09_c01', 'v_BandMarching_g21_c03', 'v_BandMarching_g20_c05', 'v_BandMarching_g21_c05', 'v_BandMarching_g18_c02', 'v_BandMarching_g13_c04', 'v_BandMarching_g10_c03', 'v_BandMarching_g22_c01', 'v_BandMarching_g19_c06', 'v_BandMarching_g10_c04', 'v_BandMarching_g06_c01', 'v_BandMarching_g25_c02', 'v_BandMarching_g20_c02', 'v_BandMarching_g22_c02', 'v_BandMarching_g03_c06', 'v_BandMarching_g09_c02', 'v_BaseballPitch_g11_c02', 'v_BaseballPitch_g03_c05', 'v_BaseballPitch_g11_c05', 'v_BaseballPitch_g10_c01', 'v_BaseballPitch_g10_c02', 'v_BaseballPitch_g11_c03', 'v_BaseballPitch_g07_c05', 'v_BaseballPitch_g08_c07', 'v_BaseballPitch_g02_c01', 'v_BaseballPitch_g15_c07', 'v_BaseballPitch_g04_c04', 'v_BaseballPitch_g17_c06', 'v_BaseballPitch_g18_c04', 'v_BaseballPitch_g23_c07', 'v_BaseballPitch_g24_c03', 'v_BaseballPitch_g20_c02', 'v_BaseballPitch_g24_c06', 'v_BaseballPitch_g03_c02', 'v_BaseballPitch_g06_c07', 'v_BaseballPitch_g13_c06', 'v_BaseballPitch_g01_c02', 'v_BaseballPitch_g19_c05', 'v_BaseballPitch_g22_c06', 'v_BaseballPitch_g06_c03', 'v_BaseballPitch_g18_c06', 'v_BaseballPitch_g25_c03', 'v_BaseballPitch_g24_c02', 'v_BaseballPitch_g04_c03', 'v_BaseballPitch_g17_c05', 'v_BaseballPitch_g22_c07', 'v_BaseballPitch_g03_c06', 'v_BaseballPitch_g05_c04', 'v_BaseballPitch_g07_c06', 'v_BaseballPitch_g17_c02', 'v_BaseballPitch_g23_c05', 'v_BaseballPitch_g10_c05', 'v_BaseballPitch_g12_c04', 'v_BaseballPitch_g25_c04', 'v_BaseballPitch_g02_c04', 'v_BaseballPitch_g07_c07', 'v_BaseballPitch_g15_c03', 'v_BaseballPitch_g05_c01', 'v_BaseballPitch_g23_c06', 'v_BaseballPitch_g03_c03', 'v_BaseballPitch_g16_c05', 'v_BaseballPitch_g05_c03', 'v_BaseballPitch_g24_c07', 'v_BaseballPitch_g13_c03', 'v_BaseballPitch_g04_c02', 'v_BaseballPitch_g16_c06', 'v_BaseballPitch_g02_c02', 'v_BaseballPitch_g12_c02', 'v_BaseballPitch_g21_c01', 'v_BaseballPitch_g14_c04', 'v_BaseballPitch_g18_c01', 'v_BaseballPitch_g09_c02', 'v_BaseballPitch_g25_c01', 'v_BaseballPitch_g22_c03', 'v_BaseballPitch_g08_c02', 'v_BaseballPitch_g24_c01', 'v_BaseballPitch_g24_c05', 'v_BaseballPitch_g07_c03', 'v_BaseballPitch_g17_c01', 'v_BaseballPitch_g04_c05', 'v_BaseballPitch_g24_c04', 'v_BaseballPitch_g17_c04', 'v_BaseballPitch_g19_c02', 'v_BaseballPitch_g09_c01', 'v_BaseballPitch_g23_c04', 'v_BaseballPitch_g09_c07', 'v_BaseballPitch_g23_c03', 'v_BaseballPitch_g12_c01', 'v_BaseballPitch_g04_c01', 'v_BaseballPitch_g01_c01', 'v_BaseballPitch_g09_c03', 'v_BaseballPitch_g03_c04', 'v_BaseballPitch_g09_c06', 'v_BaseballPitch_g06_c05', 'v_BaseballPitch_g14_c03', 'v_BaseballPitch_g15_c05', 'v_BaseballPitch_g01_c06', 'v_BaseballPitch_g13_c02', 'v_BaseballPitch_g16_c02', 'v_BaseballPitch_g25_c02', 'v_BaseballPitch_g13_c05', 'v_BaseballPitch_g16_c03', 'v_BaseballPitch_g05_c06', 'v_BaseballPitch_g05_c05', 'v_BaseballPitch_g18_c07', 'v_BaseballPitch_g19_c01', 'v_BaseballPitch_g22_c05', 'v_BaseballPitch_g11_c01', 'v_BaseballPitch_g23_c01', 'v_BaseballPitch_g06_c01', 'v_BaseballPitch_g13_c07', 'v_BaseballPitch_g18_c03', 'v_BaseballPitch_g15_c04', 'v_BaseballPitch_g08_c01', 'v_BaseballPitch_g14_c02', 'v_BaseballPitch_g25_c06', 'v_BaseballPitch_g01_c04', 'v_BaseballPitch_g21_c04', 'v_BaseballPitch_g10_c04', 'v_BaseballPitch_g09_c05', 'v_BaseballPitch_g05_c02', 'v_BaseballPitch_g08_c03', 'v_BaseballPitch_g22_c02', 'v_BaseballPitch_g10_c03', 'v_BaseballPitch_g03_c07', 'v_BaseballPitch_g19_c03', 'v_BaseballPitch_g11_c04', 'v_BaseballPitch_g15_c06', 'v_BaseballPitch_g03_c01', 'v_BaseballPitch_g01_c03', 'v_BaseballPitch_g08_c04', 'v_BaseballPitch_g22_c04', 'v_BaseballPitch_g25_c05', 'v_BaseballPitch_g14_c01', 'v_BaseballPitch_g20_c03', 'v_BaseballPitch_g16_c04', 'v_Basketball_g24_c02', 'v_Basketball_g20_c07', 'v_Basketball_g11_c03', 'v_Basketball_g23_c01', 'v_Basketball_g04_c02', 'v_Basketball_g10_c04', 'v_Basketball_g20_c03', 'v_Basketball_g21_c03', 'v_Basketball_g09_c01', 'v_Basketball_g12_c04', 'v_Basketball_g22_c02', 'v_Basketball_g23_c02', 'v_Basketball_g07_c03', 'v_Basketball_g25_c03', 'v_Basketball_g16_c06', 'v_Basketball_g03_c05', 'v_Basketball_g12_c03', 'v_Basketball_g21_c06', 'v_Basketball_g16_c03', 'v_Basketball_g13_c03', 'v_Basketball_g13_c02', 'v_Basketball_g02_c05', 'v_Basketball_g21_c01', 'v_Basketball_g19_c07', 'v_Basketball_g20_c01', 'v_Basketball_g18_c01', 'v_Basketball_g20_c05', 'v_Basketball_g11_c05', 'v_Basketball_g22_c01', 'v_Basketball_g18_c04', 'v_Basketball_g06_c04', 'v_Basketball_g13_c01', 'v_Basketball_g19_c05', 'v_Basketball_g01_c05', 'v_Basketball_g01_c06', 'v_Basketball_g14_c03', 'v_Basketball_g03_c06', 'v_Basketball_g15_c02', 'v_Basketball_g23_c03', 'v_Basketball_g15_c04', 'v_Basketball_g22_c06', 'v_Basketball_g19_c06', 'v_Basketball_g07_c02', 'v_Basketball_g01_c03', 'v_Basketball_g16_c04', 'v_Basketball_g04_c03', 'v_Basketball_g02_c04', 'v_Basketball_g16_c01', 'v_Basketball_g08_c04', 'v_Basketball_g20_c04', 'v_Basketball_g17_c01', 'v_Basketball_g20_c02', 'v_Basketball_g08_c01', 'v_Basketball_g22_c03', 'v_Basketball_g15_c06', 'v_Basketball_g10_c01', 'v_Basketball_g19_c04', 'v_Basketball_g05_c02', 'v_Basketball_g11_c04', 'v_Basketball_g03_c01', 'v_Basketball_g09_c05', 'v_Basketball_g02_c02', 'v_Basketball_g05_c03', 'v_Basketball_g07_c01', 'v_Basketball_g10_c05', 'v_Basketball_g21_c02', 'v_Basketball_g12_c05', 'v_Basketball_g09_c03', 'v_Basketball_g14_c04', 'v_Basketball_g08_c02', 'v_Basketball_g09_c02', 'v_Basketball_g10_c03', 'v_Basketball_g01_c07', 'v_Basketball_g18_c05', 'v_Basketball_g06_c03', 'v_Basketball_g01_c04', 'v_Basketball_g25_c04', 'v_Basketball_g14_c01', 'v_Basketball_g21_c04', 'v_Basketball_g24_c01', 'v_Basketball_g08_c03', 'v_Basketball_g22_c05', 'v_Basketball_g07_c04', 'v_Basketball_g15_c01', 'v_Basketball_g15_c07', 'v_Basketball_g01_c02', 'v_Basketball_g25_c01', 'v_Basketball_g11_c01', 'v_Basketball_g17_c03', 'v_Basketball_g17_c04', 'v_Basketball_g10_c02', 'v_Basketball_g15_c03', 'v_Basketball_g23_c05', 'v_Basketball_g18_c02', 'v_Basketball_g19_c02', 'v_Basketball_g12_c02', 'v_Basketball_g02_c01', 'v_Basketball_g02_c03', 'v_Basketball_g01_c01', 'v_Basketball_g22_c04', 'v_Basketball_g25_c06', 'v_Basketball_g05_c01', 'v_Basketball_g03_c04', 'v_Basketball_g14_c02', 'v_BasketballDunk_g05_c06', 'v_BasketballDunk_g25_c02', 'v_BasketballDunk_g04_c04', 'v_BasketballDunk_g04_c01', 'v_BasketballDunk_g02_c04', 'v_BasketballDunk_g15_c02', 'v_BasketballDunk_g08_c04', 'v_BasketballDunk_g13_c04', 'v_BasketballDunk_g03_c03', 'v_BasketballDunk_g25_c03', 'v_BasketballDunk_g01_c02', 'v_BasketballDunk_g09_c02', 'v_BasketballDunk_g07_c06', 'v_BasketballDunk_g20_c04', 'v_BasketballDunk_g18_c01', 'v_BasketballDunk_g17_c01', 'v_BasketballDunk_g14_c07', 'v_BasketballDunk_g13_c03', 'v_BasketballDunk_g15_c04', 'v_BasketballDunk_g03_c06', 'v_BasketballDunk_g24_c04', 'v_BasketballDunk_g07_c03', 'v_BasketballDunk_g10_c01', 'v_BasketballDunk_g18_c06', 'v_BasketballDunk_g15_c06', 'v_BasketballDunk_g06_c04', 'v_BasketballDunk_g14_c01', 'v_BasketballDunk_g24_c02', 'v_BasketballDunk_g23_c02', 'v_BasketballDunk_g02_c02', 'v_BasketballDunk_g01_c06', 'v_BasketballDunk_g01_c01', 'v_BasketballDunk_g02_c03', 'v_BasketballDunk_g16_c01', 'v_BasketballDunk_g05_c01', 'v_BasketballDunk_g17_c07', 'v_BasketballDunk_g23_c05', 'v_BasketballDunk_g24_c03', 'v_BasketballDunk_g08_c03', 'v_BasketballDunk_g05_c05', 'v_BasketballDunk_g22_c02', 'v_BasketballDunk_g04_c02', 'v_BasketballDunk_g16_c06', 'v_BasketballDunk_g01_c04', 'v_BasketballDunk_g15_c01', 'v_BasketballDunk_g10_c03', 'v_BasketballDunk_g07_c01', 'v_BasketballDunk_g16_c02', 'v_BasketballDunk_g18_c04', 'v_BasketballDunk_g06_c02', 'v_BasketballDunk_g20_c02', 'v_BasketballDunk_g11_c01', 'v_BasketballDunk_g03_c01', 'v_BasketballDunk_g12_c01', 'v_BasketballDunk_g11_c03', 'v_BasketballDunk_g21_c03', 'v_BasketballDunk_g14_c03', 'v_BasketballDunk_g09_c04', 'v_BasketballDunk_g05_c03', 'v_BasketballDunk_g06_c03', 'v_BasketballDunk_g08_c01', 'v_BasketballDunk_g17_c05', 'v_BasketballDunk_g17_c03', 'v_BasketballDunk_g12_c03', 'v_BasketballDunk_g08_c02', 'v_BasketballDunk_g11_c05', 'v_BasketballDunk_g07_c05', 'v_BasketballDunk_g07_c04', 'v_BasketballDunk_g10_c05', 'v_BasketballDunk_g12_c02', 'v_BasketballDunk_g19_c04', 'v_BasketballDunk_g20_c01', 'v_BasketballDunk_g02_c01', 'v_BasketballDunk_g14_c02', 'v_BasketballDunk_g19_c03', 'v_BasketballDunk_g13_c02', 'v_BasketballDunk_g11_c02', 'v_BasketballDunk_g12_c05', 'v_BasketballDunk_g18_c05', 'v_BasketballDunk_g09_c01', 'v_BasketballDunk_g21_c01', 'v_BasketballDunk_g10_c02', 'v_BasketballDunk_g01_c05', 'v_BasketballDunk_g19_c02', 'v_BasketballDunk_g14_c05', 'v_BasketballDunk_g13_c01', 'v_BasketballDunk_g05_c02', 'v_BasketballDunk_g08_c05', 'v_BasketballDunk_g10_c04', 'v_BasketballDunk_g16_c03', 'v_BasketballDunk_g22_c03', 'v_BasketballDunk_g23_c04', 'v_BasketballDunk_g04_c03', 'v_BasketballDunk_g06_c01', 'v_BasketballDunk_g09_c03', 'v_BasketballDunk_g19_c01', 'v_BasketballDunk_g03_c04', 'v_BasketballDunk_g17_c04', 'v_BasketballDunk_g20_c06', 'v_BasketballDunk_g09_c05', 'v_BasketballDunk_g16_c04', 'v_BasketballDunk_g17_c06', 'v_BasketballDunk_g18_c02', 'v_BasketballDunk_g15_c03', 'v_BenchPress_g16_c04', 'v_BenchPress_g15_c06', 'v_BenchPress_g05_c05', 'v_BenchPress_g02_c07', 'v_BenchPress_g25_c05', 'v_BenchPress_g20_c07', 'v_BenchPress_g09_c01', 'v_BenchPress_g22_c04', 'v_BenchPress_g11_c05', 'v_BenchPress_g09_c02', 'v_BenchPress_g22_c05', 'v_BenchPress_g14_c02', 'v_BenchPress_g03_c06', 'v_BenchPress_g13_c02', 'v_BenchPress_g04_c01', 'v_BenchPress_g06_c03', 'v_BenchPress_g25_c03', 'v_BenchPress_g01_c02', 'v_BenchPress_g06_c04', 'v_BenchPress_g17_c03', 'v_BenchPress_g22_c07', 'v_BenchPress_g14_c01', 'v_BenchPress_g15_c01', 'v_BenchPress_g05_c07', 'v_BenchPress_g18_c03', 'v_BenchPress_g15_c02', 'v_BenchPress_g23_c01', 'v_BenchPress_g06_c01', 'v_BenchPress_g20_c06', 'v_BenchPress_g03_c02', 'v_BenchPress_g07_c03', 'v_BenchPress_g15_c05', 'v_BenchPress_g06_c07', 'v_BenchPress_g13_c01', 'v_BenchPress_g21_c02', 'v_BenchPress_g19_c04', 'v_BenchPress_g16_c02', 'v_BenchPress_g24_c01', 'v_BenchPress_g21_c03', 'v_BenchPress_g01_c06', 'v_BenchPress_g02_c02', 'v_BenchPress_g19_c06', 'v_BenchPress_g20_c04', 'v_BenchPress_g12_c06', 'v_BenchPress_g01_c04', 'v_BenchPress_g13_c05', 'v_BenchPress_g24_c07', 'v_BenchPress_g17_c07', 'v_BenchPress_g19_c02', 'v_BenchPress_g01_c01', 'v_BenchPress_g18_c05', 'v_BenchPress_g23_c04', 'v_BenchPress_g04_c03', 'v_BenchPress_g03_c05', 'v_BenchPress_g12_c02', 'v_BenchPress_g02_c05', 'v_BenchPress_g08_c03', 'v_BenchPress_g20_c01', 'v_BenchPress_g24_c03', 'v_BenchPress_g04_c05', 'v_BenchPress_g12_c07', 'v_BenchPress_g10_c01', 'v_BenchPress_g10_c03', 'v_BenchPress_g14_c04', 'v_BenchPress_g01_c03', 'v_BenchPress_g08_c07', 'v_BenchPress_g11_c04', 'v_BenchPress_g06_c05', 'v_BenchPress_g24_c06', 'v_BenchPress_g07_c01', 'v_BenchPress_g18_c07', 'v_BenchPress_g05_c04', 'v_BenchPress_g19_c03', 'v_BenchPress_g17_c06', 'v_BenchPress_g12_c03', 'v_BenchPress_g05_c02', 'v_BenchPress_g02_c01', 'v_BenchPress_g14_c05', 'v_BenchPress_g13_c07', 'v_BenchPress_g11_c03', 'v_BenchPress_g07_c06', 'v_BenchPress_g08_c01', 'v_BenchPress_g20_c03', 'v_BenchPress_g16_c03', 'v_BenchPress_g19_c01', 'v_BenchPress_g25_c07', 'v_BenchPress_g22_c06', 'v_BenchPress_g18_c04', 'v_BenchPress_g06_c06', 'v_BenchPress_g14_c03', 'v_BenchPress_g07_c05', 'v_BenchPress_g25_c06', 'v_BenchPress_g09_c05', 'v_BenchPress_g16_c01', 'v_BenchPress_g21_c01', 'v_BenchPress_g08_c04', 'v_BenchPress_g22_c03', 'v_BenchPress_g24_c04', 'v_BenchPress_g23_c03', 'v_BenchPress_g17_c01', 'v_BenchPress_g15_c03', 'v_BenchPress_g13_c06', 'v_BenchPress_g25_c02', 'v_BenchPress_g18_c02', 'v_BenchPress_g17_c02', 'v_BenchPress_g02_c03', 'v_BenchPress_g15_c04', 'v_BenchPress_g17_c04', 'v_BenchPress_g23_c02', 'v_BenchPress_g02_c04', 'v_BenchPress_g03_c03', 'v_BenchPress_g06_c02', 'v_BenchPress_g25_c01', 'v_BenchPress_g21_c04', 'v_BenchPress_g01_c05', 'v_BenchPress_g07_c02', 'v_BenchPress_g04_c04', 'v_BenchPress_g10_c02', 'v_BenchPress_g18_c06', 'v_BenchPress_g13_c03', 'v_BenchPress_g11_c02', 'v_BenchPress_g10_c04', 'v_BenchPress_g19_c05', 'v_BenchPress_g04_c06', 'v_BenchPress_g23_c05', 'v_BenchPress_g04_c07', 'v_BenchPress_g24_c02', 'v_BenchPress_g08_c05', 'v_Biking_g18_c02', 'v_Biking_g20_c07', 'v_Biking_g13_c01', 'v_Biking_g08_c06', 'v_Biking_g23_c02', 'v_Biking_g03_c01', 'v_Biking_g17_c05', 'v_Biking_g06_c03', 'v_Biking_g07_c02', 'v_Biking_g24_c07', 'v_Biking_g21_c07', 'v_Biking_g05_c01', 'v_Biking_g11_c05', 'v_Biking_g08_c04', 'v_Biking_g04_c02', 'v_Biking_g05_c06', 'v_Biking_g15_c03', 'v_Biking_g22_c01', 'v_Biking_g25_c02', 'v_Biking_g10_c03', 'v_Biking_g05_c05', 'v_Biking_g20_c05', 'v_Biking_g15_c04', 'v_Biking_g05_c07', 'v_Biking_g15_c05', 'v_Biking_g07_c01', 'v_Biking_g04_c05', 'v_Biking_g20_c02', 'v_Biking_g09_c02', 'v_Biking_g10_c02', 'v_Biking_g07_c06', 'v_Biking_g02_c07', 'v_Biking_g21_c03', 'v_Biking_g07_c04', 'v_Biking_g15_c02', 'v_Biking_g14_c02', 'v_Biking_g17_c02', 'v_Biking_g24_c06', 'v_Biking_g02_c03', 'v_Biking_g19_c04', 'v_Biking_g03_c02', 'v_Biking_g14_c03', 'v_Biking_g22_c05', 'v_Biking_g10_c06', 'v_Biking_g24_c01', 'v_Biking_g06_c04', 'v_Biking_g02_c04', 'v_Biking_g01_c03', 'v_Biking_g09_c01', 'v_Biking_g10_c01', 'v_Biking_g06_c05', 'v_Biking_g16_c01', 'v_Biking_g15_c01', 'v_Biking_g02_c02', 'v_Biking_g12_c01', 'v_Biking_g06_c02', 'v_Biking_g21_c05', 'v_Biking_g13_c04', 'v_Biking_g14_c01', 'v_Biking_g08_c03', 'v_Biking_g01_c02', 'v_Biking_g02_c06', 'v_Biking_g21_c06', 'v_Biking_g01_c04', 'v_Biking_g08_c01', 'v_Biking_g16_c04', 'v_Biking_g11_c01', 'v_Biking_g19_c03', 'v_Biking_g24_c05', 'v_Biking_g02_c05', 'v_Biking_g14_c04', 'v_Biking_g23_c04', 'v_Biking_g04_c03', 'v_Biking_g11_c04', 'v_Biking_g22_c04', 'v_Biking_g20_c03', 'v_Biking_g03_c03', 'v_Biking_g13_c05', 'v_Biking_g11_c03', 'v_Biking_g09_c03', 'v_Biking_g24_c02', 'v_Biking_g17_c04', 'v_Biking_g05_c04', 'v_Biking_g18_c03', 'v_Biking_g04_c01', 'v_Biking_g16_c03', 'v_Biking_g12_c04', 'v_Biking_g20_c01', 'v_Biking_g24_c03', 'v_Biking_g06_c01', 'v_Biking_g13_c06', 'v_Biking_g11_c02', 'v_Biking_g12_c02', 'v_Biking_g19_c01', 'v_Biking_g01_c01', 'v_Biking_g21_c01', 'v_Biking_g10_c04', 'v_Biking_g05_c03', 'v_Biking_g22_c03', 'v_Biking_g23_c01', 'v_Biking_g17_c06', 'v_Biking_g17_c01', 'v_Biking_g10_c05', 'v_Biking_g09_c04', 'v_Billiards_g17_c04', 'v_Billiards_g21_c01', 'v_Billiards_g24_c03', 'v_Billiards_g22_c03', 'v_Billiards_g04_c06', 'v_Billiards_g11_c05', 'v_Billiards_g05_c05', 'v_Billiards_g11_c06', 'v_Billiards_g01_c03', 'v_Billiards_g14_c03', 'v_Billiards_g07_c02', 'v_Billiards_g13_c04', 'v_Billiards_g12_c04', 'v_Billiards_g19_c03', 'v_Billiards_g25_c05', 'v_Billiards_g02_c06', 'v_Billiards_g12_c03', 'v_Billiards_g04_c01', 'v_Billiards_g03_c01', 'v_Billiards_g14_c07', 'v_Billiards_g04_c04', 'v_Billiards_g05_c01', 'v_Billiards_g15_c05', 'v_Billiards_g09_c05', 'v_Billiards_g23_c02', 'v_Billiards_g15_c01', 'v_Billiards_g06_c01', 'v_Billiards_g25_c03', 'v_Billiards_g22_c04', 'v_Billiards_g13_c02', 'v_Billiards_g20_c02', 'v_Billiards_g23_c04', 'v_Billiards_g17_c05', 'v_Billiards_g08_c01', 'v_Billiards_g14_c06', 'v_Billiards_g16_c02', 'v_Billiards_g21_c02', 'v_Billiards_g18_c03', 'v_Billiards_g15_c03', 'v_Billiards_g19_c06', 'v_Billiards_g01_c02', 'v_Billiards_g17_c01', 'v_Billiards_g09_c01', 'v_Billiards_g02_c07', 'v_Billiards_g15_c02', 'v_Billiards_g21_c06', 'v_Billiards_g16_c01', 'v_Billiards_g04_c07', 'v_Billiards_g03_c02', 'v_Billiards_g01_c04', 'v_Billiards_g09_c02', 'v_Billiards_g22_c05', 'v_Billiards_g08_c06', 'v_Billiards_g11_c04', 'v_Billiards_g08_c02', 'v_Billiards_g18_c04', 'v_Billiards_g04_c05', 'v_Billiards_g21_c07', 'v_Billiards_g24_c05', 'v_Billiards_g17_c02', 'v_Billiards_g20_c03', 'v_Billiards_g18_c02', 'v_Billiards_g11_c07', 'v_Billiards_g16_c04', 'v_Billiards_g20_c01', 'v_Billiards_g10_c02', 'v_Billiards_g21_c05', 'v_Billiards_g04_c03', 'v_Billiards_g13_c06', 'v_Billiards_g19_c05', 'v_Billiards_g18_c06', 'v_Billiards_g19_c07', 'v_Billiards_g16_c05', 'v_Billiards_g14_c01', 'v_Billiards_g20_c04', 'v_Billiards_g13_c07', 'v_Billiards_g10_c01', 'v_Billiards_g01_c05', 'v_Billiards_g02_c04', 'v_Billiards_g07_c04', 'v_Billiards_g07_c03', 'v_Billiards_g17_c03', 'v_Billiards_g11_c03', 'v_Billiards_g05_c04', 'v_Billiards_g15_c04', 'v_Billiards_g03_c03', 'v_Billiards_g16_c03', 'v_Billiards_g15_c07', 'v_Billiards_g12_c06', 'v_Billiards_g25_c07', 'v_Billiards_g13_c03', 'v_Billiards_g01_c01', 'v_Billiards_g08_c04', 'v_Billiards_g15_c06', 'v_Billiards_g24_c06', 'v_Billiards_g13_c01', 'v_Billiards_g24_c01', 'v_Billiards_g05_c02', 'v_Billiards_g21_c04', 'v_Billiards_g14_c02', 'v_Billiards_g19_c01', 'v_Billiards_g02_c02', 'v_Billiards_g12_c02', 'v_Billiards_g14_c05', 'v_Billiards_g10_c05', 'v_Billiards_g13_c05', 'v_Billiards_g23_c03', 'v_Billiards_g25_c04', 'v_Billiards_g05_c03', 'v_Billiards_g09_c07', 'v_Billiards_g04_c02', 'v_Billiards_g12_c07', 'v_Billiards_g18_c05', 'v_Billiards_g12_c05', 'v_Billiards_g09_c06', 'v_Billiards_g02_c03', 'v_Billiards_g02_c05', 'v_Billiards_g06_c05', 'v_Billiards_g10_c04', 'v_Billiards_g08_c05', 'v_BlowDryHair_g08_c04', 'v_BlowDryHair_g24_c02', 'v_BlowDryHair_g12_c05', 'v_BlowDryHair_g25_c02', 'v_BlowDryHair_g20_c02', 'v_BlowDryHair_g14_c04', 'v_BlowDryHair_g21_c01', 'v_BlowDryHair_g02_c04', 'v_BlowDryHair_g16_c04', 'v_BlowDryHair_g02_c02', 'v_BlowDryHair_g15_c01', 'v_BlowDryHair_g01_c03', 'v_BlowDryHair_g25_c01', 'v_BlowDryHair_g17_c04', 'v_BlowDryHair_g07_c07', 'v_BlowDryHair_g04_c03', 'v_BlowDryHair_g06_c04', 'v_BlowDryHair_g17_c03', 'v_BlowDryHair_g08_c05', 'v_BlowDryHair_g21_c05', 'v_BlowDryHair_g04_c05', 'v_BlowDryHair_g10_c06', 'v_BlowDryHair_g16_c02', 'v_BlowDryHair_g12_c06', 'v_BlowDryHair_g23_c05', 'v_BlowDryHair_g06_c07', 'v_BlowDryHair_g11_c05', 'v_BlowDryHair_g23_c07', 'v_BlowDryHair_g19_c03', 'v_BlowDryHair_g05_c01', 'v_BlowDryHair_g10_c03', 'v_BlowDryHair_g20_c05', 'v_BlowDryHair_g05_c05', 'v_BlowDryHair_g18_c01', 'v_BlowDryHair_g07_c04', 'v_BlowDryHair_g10_c05', 'v_BlowDryHair_g20_c01', 'v_BlowDryHair_g10_c07', 'v_BlowDryHair_g03_c04', 'v_BlowDryHair_g05_c03', 'v_BlowDryHair_g22_c01', 'v_BlowDryHair_g05_c04', 'v_BlowDryHair_g17_c02', 'v_BlowDryHair_g04_c04', 'v_BlowDryHair_g25_c04', 'v_BlowDryHair_g06_c06', 'v_BlowDryHair_g08_c07', 'v_BlowDryHair_g13_c02', 'v_BlowDryHair_g17_c01', 'v_BlowDryHair_g14_c03', 'v_BlowDryHair_g02_c01', 'v_BlowDryHair_g10_c01', 'v_BlowDryHair_g14_c05', 'v_BlowDryHair_g08_c01', 'v_BlowDryHair_g21_c04', 'v_BlowDryHair_g07_c05', 'v_BlowDryHair_g03_c01', 'v_BlowDryHair_g06_c05', 'v_BlowDryHair_g11_c06', 'v_BlowDryHair_g10_c02', 'v_BlowDryHair_g20_c04', 'v_BlowDryHair_g02_c05', 'v_BlowDryHair_g03_c03', 'v_BlowDryHair_g06_c02', 'v_BlowDryHair_g19_c04', 'v_BlowDryHair_g03_c05', 'v_BlowDryHair_g16_c01', 'v_BlowDryHair_g18_c02', 'v_BlowDryHair_g09_c04', 'v_BlowDryHair_g01_c04', 'v_BlowDryHair_g11_c07', 'v_BlowDryHair_g04_c01', 'v_BlowDryHair_g11_c01', 'v_BlowDryHair_g11_c02', 'v_BlowDryHair_g08_c06', 'v_BlowDryHair_g14_c01', 'v_BlowDryHair_g24_c04', 'v_BlowDryHair_g08_c02', 'v_BlowDryHair_g07_c01', 'v_BlowDryHair_g23_c02', 'v_BlowDryHair_g14_c02', 'v_BlowDryHair_g02_c03', 'v_BlowDryHair_g07_c02', 'v_BlowDryHair_g22_c04', 'v_BlowDryHair_g09_c03', 'v_BlowDryHair_g07_c06', 'v_BlowDryHair_g13_c04', 'v_BlowDryHair_g04_c02', 'v_BlowDryHair_g23_c04', 'v_BlowDryHair_g13_c03', 'v_BlowDryHair_g05_c02', 'v_BlowDryHair_g11_c03', 'v_BlowDryHair_g11_c04', 'v_BlowDryHair_g22_c02', 'v_BlowDryHair_g06_c01', 'v_BlowDryHair_g10_c04', 'v_BlowDryHair_g19_c02', 'v_BlowDryHair_g22_c03', 'v_BlowDryHair_g16_c03', 'v_BlowDryHair_g17_c05', 'v_BlowDryHair_g18_c04', 'v_BlowDryHair_g12_c04', 'v_BlowDryHair_g21_c06', 'v_BlowDryHair_g21_c03', 'v_BlowingCandles_g05_c02', 'v_BlowingCandles_g01_c04', 'v_BlowingCandles_g16_c03', 'v_BlowingCandles_g02_c04', 'v_BlowingCandles_g24_c01', 'v_BlowingCandles_g16_c04', 'v_BlowingCandles_g18_c03', 'v_BlowingCandles_g20_c04', 'v_BlowingCandles_g18_c02', 'v_BlowingCandles_g15_c02', 'v_BlowingCandles_g14_c02', 'v_BlowingCandles_g12_c04', 'v_BlowingCandles_g19_c01', 'v_BlowingCandles_g08_c04', 'v_BlowingCandles_g21_c04', 'v_BlowingCandles_g22_c04', 'v_BlowingCandles_g10_c02', 'v_BlowingCandles_g21_c01', 'v_BlowingCandles_g15_c03', 'v_BlowingCandles_g21_c03', 'v_BlowingCandles_g06_c03', 'v_BlowingCandles_g07_c01', 'v_BlowingCandles_g06_c02', 'v_BlowingCandles_g10_c01', 'v_BlowingCandles_g25_c03', 'v_BlowingCandles_g03_c02', 'v_BlowingCandles_g11_c04', 'v_BlowingCandles_g09_c02', 'v_BlowingCandles_g09_c01', 'v_BlowingCandles_g25_c04', 'v_BlowingCandles_g12_c06', 'v_BlowingCandles_g05_c05', 'v_BlowingCandles_g22_c03', 'v_BlowingCandles_g12_c01', 'v_BlowingCandles_g17_c03', 'v_BlowingCandles_g07_c04', 'v_BlowingCandles_g23_c02', 'v_BlowingCandles_g02_c03', 'v_BlowingCandles_g25_c05', 'v_BlowingCandles_g19_c04', 'v_BlowingCandles_g05_c03', 'v_BlowingCandles_g23_c04', 'v_BlowingCandles_g12_c02', 'v_BlowingCandles_g04_c05', 'v_BlowingCandles_g14_c04', 'v_BlowingCandles_g21_c02', 'v_BlowingCandles_g02_c02', 'v_BlowingCandles_g07_c02', 'v_BlowingCandles_g08_c03', 'v_BlowingCandles_g13_c02', 'v_BlowingCandles_g09_c03', 'v_BlowingCandles_g03_c03', 'v_BlowingCandles_g02_c01', 'v_BlowingCandles_g24_c04', 'v_BlowingCandles_g20_c02', 'v_BlowingCandles_g22_c01', 'v_BlowingCandles_g17_c01', 'v_BlowingCandles_g05_c04', 'v_BlowingCandles_g23_c01', 'v_BlowingCandles_g09_c04', 'v_BlowingCandles_g11_c01', 'v_BlowingCandles_g18_c01', 'v_BlowingCandles_g06_c01', 'v_BlowingCandles_g17_c02', 'v_BlowingCandles_g18_c04', 'v_BlowingCandles_g12_c03', 'v_BlowingCandles_g07_c03', 'v_BlowingCandles_g04_c02', 'v_BlowingCandles_g15_c04', 'v_BlowingCandles_g06_c06', 'v_BlowingCandles_g22_c02', 'v_BlowingCandles_g13_c01', 'v_BlowingCandles_g01_c02', 'v_BlowingCandles_g13_c03', 'v_BlowingCandles_g04_c01', 'v_BlowingCandles_g16_c01', 'v_BlowingCandles_g19_c02', 'v_BlowingCandles_g01_c03', 'v_BlowingCandles_g12_c05', 'v_BlowingCandles_g03_c04', 'v_BlowingCandles_g06_c04', 'v_BlowingCandles_g04_c03', 'v_BlowingCandles_g11_c03', 'v_BlowingCandles_g13_c04', 'v_BodyWeightSquats_g03_c01', 'v_BodyWeightSquats_g25_c03', 'v_BodyWeightSquats_g06_c04', 'v_BodyWeightSquats_g04_c04', 'v_BodyWeightSquats_g19_c03', 'v_BodyWeightSquats_g14_c03', 'v_BodyWeightSquats_g13_c03', 'v_BodyWeightSquats_g20_c01', 'v_BodyWeightSquats_g18_c01', 'v_BodyWeightSquats_g04_c01', 'v_BodyWeightSquats_g20_c02', 'v_BodyWeightSquats_g25_c07', 'v_BodyWeightSquats_g09_c05', 'v_BodyWeightSquats_g01_c01', 'v_BodyWeightSquats_g12_c01', 'v_BodyWeightSquats_g16_c02', 'v_BodyWeightSquats_g20_c05', 'v_BodyWeightSquats_g25_c01', 'v_BodyWeightSquats_g25_c02', 'v_BodyWeightSquats_g14_c02', 'v_BodyWeightSquats_g11_c02', 'v_BodyWeightSquats_g15_c02', 'v_BodyWeightSquats_g07_c02', 'v_BodyWeightSquats_g02_c01', 'v_BodyWeightSquats_g03_c03', 'v_BodyWeightSquats_g14_c04', 'v_BodyWeightSquats_g07_c03', 'v_BodyWeightSquats_g22_c02', 'v_BodyWeightSquats_g17_c03', 'v_BodyWeightSquats_g02_c03', 'v_BodyWeightSquats_g21_c04', 'v_BodyWeightSquats_g24_c01', 'v_BodyWeightSquats_g09_c04', 'v_BodyWeightSquats_g20_c03', 'v_BodyWeightSquats_g05_c01', 'v_BodyWeightSquats_g19_c02', 'v_BodyWeightSquats_g02_c02', 'v_BodyWeightSquats_g18_c04', 'v_BodyWeightSquats_g02_c04', 'v_BodyWeightSquats_g06_c01', 'v_BodyWeightSquats_g12_c04', 'v_BodyWeightSquats_g04_c03', 'v_BodyWeightSquats_g25_c06', 'v_BodyWeightSquats_g15_c01', 'v_BodyWeightSquats_g24_c02', 'v_BodyWeightSquats_g06_c02', 'v_BodyWeightSquats_g23_c02', 'v_BodyWeightSquats_g17_c01', 'v_BodyWeightSquats_g10_c03', 'v_BodyWeightSquats_g07_c04', 'v_BodyWeightSquats_g20_c04', 'v_BodyWeightSquats_g03_c02', 'v_BodyWeightSquats_g20_c06', 'v_BodyWeightSquats_g21_c03', 'v_BodyWeightSquats_g03_c05', 'v_BodyWeightSquats_g10_c05', 'v_BodyWeightSquats_g18_c03', 'v_BodyWeightSquats_g10_c04', 'v_BodyWeightSquats_g11_c03', 'v_BodyWeightSquats_g10_c02', 'v_BodyWeightSquats_g16_c03', 'v_BodyWeightSquats_g01_c04', 'v_BodyWeightSquats_g06_c03', 'v_BodyWeightSquats_g19_c04', 'v_BodyWeightSquats_g11_c04', 'v_BodyWeightSquats_g05_c04', 'v_BodyWeightSquats_g16_c01', 'v_BodyWeightSquats_g04_c02', 'v_BodyWeightSquats_g10_c01', 'v_BodyWeightSquats_g12_c02', 'v_BodyWeightSquats_g17_c04', 'v_BodyWeightSquats_g22_c03', 'v_BodyWeightSquats_g06_c05', 'v_BodyWeightSquats_g21_c01', 'v_BodyWeightSquats_g15_c03', 'v_BodyWeightSquats_g24_c03', 'v_BodyWeightSquats_g22_c01', 'v_BodyWeightSquats_g25_c05', 'v_BodyWeightSquats_g24_c05', 'v_BodyWeightSquats_g08_c02', 'v_BodyWeightSquats_g17_c02', 'v_BodyWeightSquats_g21_c02', 'v_BodyWeightSquats_g09_c01', 'v_BodyWeightSquats_g18_c02', 'v_BodyWeightSquats_g09_c02', 'v_BodyWeightSquats_g13_c01', 'v_BodyWeightSquats_g07_c01', 'v_BodyWeightSquats_g24_c04', 'v_Bowling_g08_c02', 'v_Bowling_g11_c06', 'v_Bowling_g18_c02', 'v_Bowling_g17_c06', 'v_Bowling_g23_c07', 'v_Bowling_g05_c04', 'v_Bowling_g01_c06', 'v_Bowling_g11_c07', 'v_Bowling_g19_c01', 'v_Bowling_g22_c03', 'v_Bowling_g04_c01', 'v_Bowling_g21_c01', 'v_Bowling_g25_c03', 'v_Bowling_g10_c06', 'v_Bowling_g02_c01', 'v_Bowling_g17_c03', 'v_Bowling_g24_c03', 'v_Bowling_g06_c04', 'v_Bowling_g07_c05', 'v_Bowling_g18_c03', 'v_Bowling_g02_c04', 'v_Bowling_g07_c07', 'v_Bowling_g05_c07', 'v_Bowling_g07_c04', 'v_Bowling_g17_c01', 'v_Bowling_g09_c07', 'v_Bowling_g03_c07', 'v_Bowling_g15_c07', 'v_Bowling_g13_c04', 'v_Bowling_g03_c01', 'v_Bowling_g04_c03', 'v_Bowling_g19_c05', 'v_Bowling_g12_c04', 'v_Bowling_g14_c04', 'v_Bowling_g21_c03', 'v_Bowling_g04_c04', 'v_Bowling_g19_c06', 'v_Bowling_g09_c06', 'v_Bowling_g13_c06', 'v_Bowling_g05_c06', 'v_Bowling_g01_c02', 'v_Bowling_g15_c01', 'v_Bowling_g07_c06', 'v_Bowling_g25_c05', 'v_Bowling_g19_c02', 'v_Bowling_g22_c06', 'v_Bowling_g21_c06', 'v_Bowling_g08_c06', 'v_Bowling_g11_c04', 'v_Bowling_g22_c05', 'v_Bowling_g03_c04', 'v_Bowling_g17_c07', 'v_Bowling_g15_c04', 'v_Bowling_g09_c03', 'v_Bowling_g10_c01', 'v_Bowling_g20_c03', 'v_Bowling_g08_c01', 'v_Bowling_g10_c07', 'v_Bowling_g13_c01', 'v_Bowling_g20_c05', 'v_Bowling_g24_c06', 'v_Bowling_g24_c07', 'v_Bowling_g16_c02', 'v_Bowling_g24_c01', 'v_Bowling_g25_c04', 'v_Bowling_g19_c07', 'v_Bowling_g21_c05', 'v_Bowling_g10_c03', 'v_Bowling_g13_c03', 'v_Bowling_g10_c02', 'v_Bowling_g05_c01', 'v_Bowling_g11_c02', 'v_Bowling_g11_c01', 'v_Bowling_g25_c01', 'v_Bowling_g25_c02', 'v_Bowling_g12_c01', 'v_Bowling_g08_c07', 'v_Bowling_g17_c02', 'v_Bowling_g03_c02', 'v_Bowling_g21_c02', 'v_Bowling_g07_c02', 'v_Bowling_g14_c01', 'v_Bowling_g08_c05', 'v_Bowling_g16_c01', 'v_Bowling_g10_c04', 'v_Bowling_g20_c06', 'v_Bowling_g12_c02', 'v_Bowling_g24_c02', 'v_Bowling_g20_c07', 'v_Bowling_g19_c03', 'v_Bowling_g16_c04', 'v_Bowling_g17_c05', 'v_Bowling_g22_c01', 'v_Bowling_g22_c07', 'v_Bowling_g03_c06', 'v_Bowling_g09_c02', 'v_Bowling_g23_c05', 'v_Bowling_g24_c04', 'v_Bowling_g01_c07', 'v_Bowling_g09_c01', 'v_Bowling_g05_c05', 'v_Bowling_g15_c05', 'v_Bowling_g24_c05', 'v_Bowling_g02_c02', 'v_Bowling_g18_c05', 'v_Bowling_g18_c04', 'v_Bowling_g12_c03', 'v_Bowling_g13_c05', 'v_Bowling_g03_c05', 'v_Bowling_g09_c05', 'v_Bowling_g15_c02', 'v_Bowling_g09_c04', 'v_Bowling_g11_c05', 'v_Bowling_g06_c06', 'v_Bowling_g18_c01', 'v_Bowling_g04_c02', 'v_Bowling_g22_c02', 'v_Bowling_g17_c04', 'v_Bowling_g11_c03', 'v_Bowling_g15_c03', 'v_Bowling_g06_c05', 'v_Bowling_g05_c03', 'v_Bowling_g20_c04', 'v_Bowling_g15_c06', 'v_BoxingPunchingBag_g20_c04', 'v_BoxingPunchingBag_g03_c04', 'v_BoxingPunchingBag_g24_c03', 'v_BoxingPunchingBag_g03_c03', 'v_BoxingPunchingBag_g04_c02', 'v_BoxingPunchingBag_g10_c02', 'v_BoxingPunchingBag_g14_c07', 'v_BoxingPunchingBag_g18_c05', 'v_BoxingPunchingBag_g18_c06', 'v_BoxingPunchingBag_g05_c04', 'v_BoxingPunchingBag_g17_c02', 'v_BoxingPunchingBag_g11_c03', 'v_BoxingPunchingBag_g25_c01', 'v_BoxingPunchingBag_g07_c01', 'v_BoxingPunchingBag_g15_c07', 'v_BoxingPunchingBag_g07_c03', 'v_BoxingPunchingBag_g23_c01', 'v_BoxingPunchingBag_g08_c03', 'v_BoxingPunchingBag_g01_c06', 'v_BoxingPunchingBag_g20_c07', 'v_BoxingPunchingBag_g12_c02', 'v_BoxingPunchingBag_g16_c07', 'v_BoxingPunchingBag_g09_c02', 'v_BoxingPunchingBag_g18_c02', 'v_BoxingPunchingBag_g10_c01', 'v_BoxingPunchingBag_g08_c02', 'v_BoxingPunchingBag_g02_c06', 'v_BoxingPunchingBag_g24_c04', 'v_BoxingPunchingBag_g20_c01', 'v_BoxingPunchingBag_g06_c05', 'v_BoxingPunchingBag_g22_c02', 'v_BoxingPunchingBag_g04_c04', 'v_BoxingPunchingBag_g25_c03', 'v_BoxingPunchingBag_g23_c02', 'v_BoxingPunchingBag_g20_c03', 'v_BoxingPunchingBag_g12_c06', 'v_BoxingPunchingBag_g09_c04', 'v_BoxingPunchingBag_g25_c06', 'v_BoxingPunchingBag_g02_c07', 'v_BoxingPunchingBag_g20_c05', 'v_BoxingPunchingBag_g12_c04', 'v_BoxingPunchingBag_g01_c05', 'v_BoxingPunchingBag_g18_c03', 'v_BoxingPunchingBag_g20_c02', 'v_BoxingPunchingBag_g21_c06', 'v_BoxingPunchingBag_g19_c04', 'v_BoxingPunchingBag_g21_c04', 'v_BoxingPunchingBag_g02_c05', 'v_BoxingPunchingBag_g09_c03', 'v_BoxingPunchingBag_g15_c06', 'v_BoxingPunchingBag_g10_c04', 'v_BoxingPunchingBag_g03_c02', 'v_BoxingPunchingBag_g08_c07', 'v_BoxingPunchingBag_g04_c07', 'v_BoxingPunchingBag_g14_c05', 'v_BoxingPunchingBag_g21_c05', 'v_BoxingPunchingBag_g04_c03', 'v_BoxingPunchingBag_g13_c01', 'v_BoxingPunchingBag_g21_c02', 'v_BoxingPunchingBag_g15_c01', 'v_BoxingPunchingBag_g25_c02', 'v_BoxingPunchingBag_g22_c06', 'v_BoxingPunchingBag_g12_c01', 'v_BoxingPunchingBag_g15_c02', 'v_BoxingPunchingBag_g15_c03', 'v_BoxingPunchingBag_g21_c07', 'v_BoxingPunchingBag_g17_c01', 'v_BoxingPunchingBag_g05_c02', 'v_BoxingPunchingBag_g10_c03', 'v_BoxingPunchingBag_g15_c04', 'v_BoxingPunchingBag_g24_c07', 'v_BoxingPunchingBag_g25_c07', 'v_BoxingPunchingBag_g17_c03', 'v_BoxingPunchingBag_g02_c01', 'v_BoxingPunchingBag_g22_c01', 'v_BoxingPunchingBag_g07_c04', 'v_BoxingPunchingBag_g23_c05', 'v_BoxingPunchingBag_g05_c01', 'v_BoxingPunchingBag_g19_c07', 'v_BoxingPunchingBag_g05_c07', 'v_BoxingPunchingBag_g02_c03', 'v_BoxingPunchingBag_g19_c02', 'v_BoxingPunchingBag_g23_c03', 'v_BoxingPunchingBag_g16_c01', 'v_BoxingPunchingBag_g08_c01', 'v_BoxingPunchingBag_g16_c06', 'v_BoxingPunchingBag_g08_c05', 'v_BoxingPunchingBag_g13_c04', 'v_BoxingPunchingBag_g05_c06', 'v_BoxingPunchingBag_g03_c01', 'v_BoxingPunchingBag_g18_c04', 'v_BoxingPunchingBag_g02_c02', 'v_BoxingPunchingBag_g04_c06', 'v_BoxingPunchingBag_g11_c01', 'v_BoxingPunchingBag_g15_c05', 'v_BoxingPunchingBag_g09_c05', 'v_BoxingPunchingBag_g09_c01', 'v_BoxingPunchingBag_g25_c04', 'v_BoxingPunchingBag_g19_c01', 'v_BoxingPunchingBag_g06_c02', 'v_BoxingPunchingBag_g19_c06', 'v_BoxingPunchingBag_g06_c04', 'v_BoxingPunchingBag_g09_c07', 'v_BoxingPunchingBag_g01_c07', 'v_BoxingPunchingBag_g07_c06', 'v_BoxingPunchingBag_g19_c05', 'v_BoxingPunchingBag_g07_c02', 'v_BoxingPunchingBag_g13_c02', 'v_BoxingPunchingBag_g21_c03', 'v_BoxingPunchingBag_g23_c04', 'v_BoxingPunchingBag_g22_c04', 'v_BoxingPunchingBag_g22_c03', 'v_BoxingPunchingBag_g17_c04', 'v_BoxingPunchingBag_g05_c05', 'v_BoxingPunchingBag_g11_c04', 'v_BoxingPunchingBag_g16_c04', 'v_BoxingPunchingBag_g22_c05', 'v_BoxingPunchingBag_g06_c06', 'v_BoxingPunchingBag_g14_c01', 'v_BoxingPunchingBag_g01_c03', 'v_BoxingPunchingBag_g21_c01', 'v_BoxingPunchingBag_g07_c05', 'v_BoxingPunchingBag_g14_c06', 'v_BoxingPunchingBag_g06_c01', 'v_BoxingPunchingBag_g22_c07', 'v_BoxingPunchingBag_g11_c02', 'v_BoxingPunchingBag_g24_c01', 'v_BoxingPunchingBag_g02_c04', 'v_BoxingSpeedBag_g09_c04', 'v_BoxingSpeedBag_g13_c05', 'v_BoxingSpeedBag_g10_c01', 'v_BoxingSpeedBag_g17_c06', 'v_BoxingSpeedBag_g14_c04', 'v_BoxingSpeedBag_g23_c01', 'v_BoxingSpeedBag_g05_c05', 'v_BoxingSpeedBag_g06_c03', 'v_BoxingSpeedBag_g15_c04', 'v_BoxingSpeedBag_g24_c01', 'v_BoxingSpeedBag_g25_c07', 'v_BoxingSpeedBag_g25_c03', 'v_BoxingSpeedBag_g12_c05', 'v_BoxingSpeedBag_g07_c04', 'v_BoxingSpeedBag_g08_c02', 'v_BoxingSpeedBag_g12_c01', 'v_BoxingSpeedBag_g23_c05', 'v_BoxingSpeedBag_g04_c05', 'v_BoxingSpeedBag_g24_c03', 'v_BoxingSpeedBag_g09_c05', 'v_BoxingSpeedBag_g23_c02', 'v_BoxingSpeedBag_g03_c02', 'v_BoxingSpeedBag_g15_c05', 'v_BoxingSpeedBag_g10_c03', 'v_BoxingSpeedBag_g07_c01', 'v_BoxingSpeedBag_g11_c03', 'v_BoxingSpeedBag_g12_c04', 'v_BoxingSpeedBag_g24_c02', 'v_BoxingSpeedBag_g20_c03', 'v_BoxingSpeedBag_g14_c01', 'v_BoxingSpeedBag_g19_c03', 'v_BoxingSpeedBag_g04_c04', 'v_BoxingSpeedBag_g09_c02', 'v_BoxingSpeedBag_g18_c04', 'v_BoxingSpeedBag_g08_c04', 'v_BoxingSpeedBag_g13_c04', 'v_BoxingSpeedBag_g06_c05', 'v_BoxingSpeedBag_g16_c01', 'v_BoxingSpeedBag_g04_c01', 'v_BoxingSpeedBag_g25_c04', 'v_BoxingSpeedBag_g07_c06', 'v_BoxingSpeedBag_g04_c06', 'v_BoxingSpeedBag_g13_c07', 'v_BoxingSpeedBag_g23_c04', 'v_BoxingSpeedBag_g01_c01', 'v_BoxingSpeedBag_g03_c05', 'v_BoxingSpeedBag_g16_c05', 'v_BoxingSpeedBag_g25_c05', 'v_BoxingSpeedBag_g03_c03', 'v_BoxingSpeedBag_g25_c01', 'v_BoxingSpeedBag_g14_c03', 'v_BoxingSpeedBag_g11_c06', 'v_BoxingSpeedBag_g17_c01', 'v_BoxingSpeedBag_g21_c04', 'v_BoxingSpeedBag_g04_c02', 'v_BoxingSpeedBag_g21_c02', 'v_BoxingSpeedBag_g14_c05', 'v_BoxingSpeedBag_g06_c02', 'v_BoxingSpeedBag_g10_c02', 'v_BoxingSpeedBag_g02_c02', 'v_BoxingSpeedBag_g21_c03', 'v_BoxingSpeedBag_g11_c04', 'v_BoxingSpeedBag_g22_c03', 'v_BoxingSpeedBag_g01_c02', 'v_BoxingSpeedBag_g15_c06', 'v_BoxingSpeedBag_g02_c04', 'v_BoxingSpeedBag_g19_c05', 'v_BoxingSpeedBag_g16_c02', 'v_BoxingSpeedBag_g13_c06', 'v_BoxingSpeedBag_g16_c04', 'v_BoxingSpeedBag_g19_c02', 'v_BoxingSpeedBag_g17_c04', 'v_BoxingSpeedBag_g17_c05', 'v_BoxingSpeedBag_g17_c07', 'v_BoxingSpeedBag_g11_c02', 'v_BoxingSpeedBag_g25_c06', 'v_BoxingSpeedBag_g06_c01', 'v_BoxingSpeedBag_g09_c03', 'v_BoxingSpeedBag_g15_c02', 'v_BoxingSpeedBag_g19_c04', 'v_BoxingSpeedBag_g21_c01', 'v_BoxingSpeedBag_g18_c02', 'v_BoxingSpeedBag_g06_c04', 'v_BoxingSpeedBag_g13_c03', 'v_BoxingSpeedBag_g20_c01', 'v_BoxingSpeedBag_g14_c06', 'v_BoxingSpeedBag_g03_c01', 'v_BoxingSpeedBag_g18_c03', 'v_BoxingSpeedBag_g04_c07', 'v_BoxingSpeedBag_g15_c07', 'v_BoxingSpeedBag_g01_c04', 'v_BoxingSpeedBag_g05_c03', 'v_BoxingSpeedBag_g04_c03', 'v_BoxingSpeedBag_g02_c03', 'v_BoxingSpeedBag_g22_c02', 'v_BoxingSpeedBag_g13_c01', 'v_BoxingSpeedBag_g03_c04', 'v_BoxingSpeedBag_g18_c01', 'v_BoxingSpeedBag_g07_c05', 'v_BoxingSpeedBag_g05_c02', 'v_BoxingSpeedBag_g01_c03', 'v_BoxingSpeedBag_g13_c02', 'v_BoxingSpeedBag_g07_c02', 'v_BoxingSpeedBag_g08_c03', 'v_BreastStroke_g18_c03', 'v_BreastStroke_g13_c04', 'v_BreastStroke_g04_c04', 'v_BreastStroke_g09_c04', 'v_BreastStroke_g10_c04', 'v_BreastStroke_g16_c03', 'v_BreastStroke_g12_c03', 'v_BreastStroke_g16_c02', 'v_BreastStroke_g06_c04', 'v_BreastStroke_g20_c03', 'v_BreastStroke_g12_c02', 'v_BreastStroke_g18_c05', 'v_BreastStroke_g24_c01', 'v_BreastStroke_g02_c02', 'v_BreastStroke_g22_c02', 'v_BreastStroke_g08_c03', 'v_BreastStroke_g14_c02', 'v_BreastStroke_g25_c02', 'v_BreastStroke_g20_c02', 'v_BreastStroke_g10_c03', 'v_BreastStroke_g03_c02', 'v_BreastStroke_g17_c01', 'v_BreastStroke_g21_c04', 'v_BreastStroke_g20_c01', 'v_BreastStroke_g11_c01', 'v_BreastStroke_g01_c03', 'v_BreastStroke_g05_c02', 'v_BreastStroke_g08_c04', 'v_BreastStroke_g02_c03', 'v_BreastStroke_g16_c04', 'v_BreastStroke_g25_c04', 'v_BreastStroke_g11_c04', 'v_BreastStroke_g18_c01', 'v_BreastStroke_g07_c02', 'v_BreastStroke_g06_c01', 'v_BreastStroke_g16_c01', 'v_BreastStroke_g21_c01', 'v_BreastStroke_g04_c03', 'v_BreastStroke_g04_c02', 'v_BreastStroke_g04_c01', 'v_BreastStroke_g13_c03', 'v_BreastStroke_g03_c03', 'v_BreastStroke_g06_c03', 'v_BreastStroke_g10_c01', 'v_BreastStroke_g05_c04', 'v_BreastStroke_g15_c03', 'v_BreastStroke_g05_c03', 'v_BreastStroke_g25_c01', 'v_BreastStroke_g05_c01', 'v_BreastStroke_g03_c04', 'v_BreastStroke_g06_c02', 'v_BreastStroke_g19_c03', 'v_BreastStroke_g09_c01', 'v_BreastStroke_g12_c01', 'v_BreastStroke_g07_c03', 'v_BreastStroke_g09_c02', 'v_BreastStroke_g24_c03', 'v_BreastStroke_g19_c02', 'v_BreastStroke_g13_c01', 'v_BreastStroke_g18_c04', 'v_BreastStroke_g17_c04', 'v_BreastStroke_g02_c01', 'v_BreastStroke_g22_c01', 'v_BreastStroke_g10_c02', 'v_BreastStroke_g23_c01', 'v_BreastStroke_g15_c04', 'v_BreastStroke_g18_c02', 'v_BreastStroke_g19_c01', 'v_BreastStroke_g21_c03', 'v_BreastStroke_g09_c03', 'v_BreastStroke_g13_c02', 'v_BreastStroke_g20_c04', 'v_BreastStroke_g08_c02', 'v_BreastStroke_g14_c03', 'v_BreastStroke_g15_c01', 'v_BreastStroke_g07_c01', 'v_BreastStroke_g12_c04', 'v_BreastStroke_g07_c04', 'v_BreastStroke_g25_c03', 'v_BreastStroke_g14_c04', 'v_BrushingTeeth_g07_c04', 'v_BrushingTeeth_g19_c05', 'v_BrushingTeeth_g04_c04', 'v_BrushingTeeth_g02_c01', 'v_BrushingTeeth_g02_c02', 'v_BrushingTeeth_g22_c04', 'v_BrushingTeeth_g18_c01', 'v_BrushingTeeth_g17_c03', 'v_BrushingTeeth_g06_c03', 'v_BrushingTeeth_g05_c03', 'v_BrushingTeeth_g13_c03', 'v_BrushingTeeth_g25_c04', 'v_BrushingTeeth_g16_c01', 'v_BrushingTeeth_g06_c04', 'v_BrushingTeeth_g03_c04', 'v_BrushingTeeth_g07_c05', 'v_BrushingTeeth_g12_c05', 'v_BrushingTeeth_g01_c04', 'v_BrushingTeeth_g22_c02', 'v_BrushingTeeth_g08_c03', 'v_BrushingTeeth_g08_c02', 'v_BrushingTeeth_g12_c06', 'v_BrushingTeeth_g04_c02', 'v_BrushingTeeth_g09_c01', 'v_BrushingTeeth_g01_c03', 'v_BrushingTeeth_g10_c04', 'v_BrushingTeeth_g18_c04', 'v_BrushingTeeth_g08_c05', 'v_BrushingTeeth_g21_c01', 'v_BrushingTeeth_g16_c03', 'v_BrushingTeeth_g11_c01', 'v_BrushingTeeth_g02_c06', 'v_BrushingTeeth_g02_c05', 'v_BrushingTeeth_g22_c01', 'v_BrushingTeeth_g19_c01', 'v_BrushingTeeth_g25_c07', 'v_BrushingTeeth_g01_c01', 'v_BrushingTeeth_g18_c02', 'v_BrushingTeeth_g19_c02', 'v_BrushingTeeth_g03_c02', 'v_BrushingTeeth_g03_c01', 'v_BrushingTeeth_g02_c04', 'v_BrushingTeeth_g20_c03', 'v_BrushingTeeth_g04_c03', 'v_BrushingTeeth_g22_c06', 'v_BrushingTeeth_g05_c04', 'v_BrushingTeeth_g23_c06', 'v_BrushingTeeth_g12_c03', 'v_BrushingTeeth_g18_c06', 'v_BrushingTeeth_g22_c03', 'v_BrushingTeeth_g10_c02', 'v_BrushingTeeth_g07_c06', 'v_BrushingTeeth_g03_c05', 'v_BrushingTeeth_g16_c02', 'v_BrushingTeeth_g17_c02', 'v_BrushingTeeth_g24_c02', 'v_BrushingTeeth_g25_c03', 'v_BrushingTeeth_g03_c03', 'v_BrushingTeeth_g10_c01', 'v_BrushingTeeth_g07_c03', 'v_BrushingTeeth_g12_c04', 'v_BrushingTeeth_g25_c02', 'v_BrushingTeeth_g14_c04', 'v_BrushingTeeth_g10_c05', 'v_BrushingTeeth_g06_c02', 'v_BrushingTeeth_g15_c02', 'v_BrushingTeeth_g09_c02', 'v_BrushingTeeth_g20_c04', 'v_BrushingTeeth_g01_c02', 'v_BrushingTeeth_g20_c05', 'v_BrushingTeeth_g07_c01', 'v_BrushingTeeth_g08_c04', 'v_BrushingTeeth_g11_c03', 'v_BrushingTeeth_g06_c01', 'v_BrushingTeeth_g06_c05', 'v_BrushingTeeth_g13_c01', 'v_BrushingTeeth_g25_c01', 'v_BrushingTeeth_g12_c02', 'v_BrushingTeeth_g07_c02', 'v_BrushingTeeth_g20_c02', 'v_BrushingTeeth_g05_c05', 'v_BrushingTeeth_g12_c01', 'v_BrushingTeeth_g24_c01', 'v_BrushingTeeth_g17_c05', 'v_BrushingTeeth_g11_c02', 'v_BrushingTeeth_g22_c07', 'v_BrushingTeeth_g05_c02', 'v_BrushingTeeth_g18_c07', 'v_BrushingTeeth_g21_c02', 'v_BrushingTeeth_g25_c06', 'v_BrushingTeeth_g23_c05', 'v_BrushingTeeth_g14_c03', 'v_BrushingTeeth_g15_c04', 'v_BrushingTeeth_g23_c01', 'v_BrushingTeeth_g11_c04', 'v_BrushingTeeth_g14_c05', 'v_BrushingTeeth_g24_c05', 'v_BrushingTeeth_g20_c01', 'v_BrushingTeeth_g16_c04', 'v_BrushingTeeth_g18_c05', 'v_BrushingTeeth_g09_c04', 'v_BrushingTeeth_g21_c04', 'v_BrushingTeeth_g15_c01', 'v_BrushingTeeth_g24_c06', 'v_CleanAndJerk_g17_c04', 'v_CleanAndJerk_g07_c03', 'v_CleanAndJerk_g11_c02', 'v_CleanAndJerk_g09_c03', 'v_CleanAndJerk_g09_c01', 'v_CleanAndJerk_g05_c04', 'v_CleanAndJerk_g04_c04', 'v_CleanAndJerk_g01_c05', 'v_CleanAndJerk_g03_c03', 'v_CleanAndJerk_g12_c07', 'v_CleanAndJerk_g14_c03', 'v_CleanAndJerk_g13_c02', 'v_CleanAndJerk_g16_c03', 'v_CleanAndJerk_g12_c01', 'v_CleanAndJerk_g10_c02', 'v_CleanAndJerk_g15_c01', 'v_CleanAndJerk_g12_c03', 'v_CleanAndJerk_g18_c01', 'v_CleanAndJerk_g08_c01', 'v_CleanAndJerk_g03_c06', 'v_CleanAndJerk_g15_c04', 'v_CleanAndJerk_g03_c01', 'v_CleanAndJerk_g18_c04', 'v_CleanAndJerk_g10_c01', 'v_CleanAndJerk_g03_c02', 'v_CleanAndJerk_g12_c04', 'v_CleanAndJerk_g13_c03', 'v_CleanAndJerk_g06_c04', 'v_CleanAndJerk_g07_c04', 'v_CleanAndJerk_g18_c02', 'v_CleanAndJerk_g02_c04', 'v_CleanAndJerk_g15_c03', 'v_CleanAndJerk_g06_c02', 'v_CleanAndJerk_g10_c04', 'v_CleanAndJerk_g13_c01', 'v_CleanAndJerk_g05_c02', 'v_CleanAndJerk_g03_c04', 'v_CleanAndJerk_g16_c02', 'v_CleanAndJerk_g18_c03', 'v_CleanAndJerk_g07_c01', 'v_CleanAndJerk_g14_c02', 'v_CleanAndJerk_g12_c02', 'v_CleanAndJerk_g15_c02', 'v_CleanAndJerk_g19_c01', 'v_CleanAndJerk_g17_c03', 'v_CleanAndJerk_g17_c01', 'v_CleanAndJerk_g05_c01', 'v_CleanAndJerk_g12_c05', 'v_CleanAndJerk_g01_c04', 'v_CleanAndJerk_g08_c02', 'v_CleanAndJerk_g07_c05', 'v_CleanAndJerk_g08_c03', 'v_CleanAndJerk_g01_c01', 'v_CleanAndJerk_g09_c02', 'v_CleanAndJerk_g02_c01', 'v_CleanAndJerk_g03_c05', 'v_CleanAndJerk_g10_c03', 'v_CleanAndJerk_g12_c06', 'v_CleanAndJerk_g05_c03', 'v_CleanAndJerk_g13_c04', 'v_CleanAndJerk_g04_c03', 'v_CleanAndJerk_g14_c01', 'v_CleanAndJerk_g09_c04', 'v_CleanAndJerk_g16_c04']\n",
      "共2192 个视频\n",
      "\n",
      "验证集为：\n",
      "['v_ApplyEyeMakeup_g01_c02', 'v_ApplyEyeMakeup_g01_c03', 'v_ApplyEyeMakeup_g02_c03', 'v_ApplyEyeMakeup_g02_c04', 'v_ApplyEyeMakeup_g04_c02', 'v_ApplyEyeMakeup_g05_c05', 'v_ApplyEyeMakeup_g06_c02', 'v_ApplyEyeMakeup_g06_c04', 'v_ApplyEyeMakeup_g06_c06', 'v_ApplyEyeMakeup_g07_c02', 'v_ApplyEyeMakeup_g07_c04', 'v_ApplyEyeMakeup_g07_c06', 'v_ApplyEyeMakeup_g08_c01', 'v_ApplyEyeMakeup_g08_c02', 'v_ApplyEyeMakeup_g10_c04', 'v_ApplyEyeMakeup_g11_c01', 'v_ApplyEyeMakeup_g14_c04', 'v_ApplyEyeMakeup_g15_c05', 'v_ApplyEyeMakeup_g16_c05', 'v_ApplyEyeMakeup_g17_c03', 'v_ApplyEyeMakeup_g18_c03', 'v_ApplyEyeMakeup_g20_c02', 'v_ApplyEyeMakeup_g20_c06', 'v_ApplyEyeMakeup_g21_c05', 'v_ApplyEyeMakeup_g23_c03', 'v_ApplyEyeMakeup_g25_c02', 'v_ApplyEyeMakeup_g25_c03', 'v_ApplyEyeMakeup_g25_c05', 'v_ApplyEyeMakeup_g25_c06', 'v_ApplyLipstick_g01_c01', 'v_ApplyLipstick_g01_c03', 'v_ApplyLipstick_g03_c04', 'v_ApplyLipstick_g05_c05', 'v_ApplyLipstick_g06_c05', 'v_ApplyLipstick_g08_c03', 'v_ApplyLipstick_g09_c03', 'v_ApplyLipstick_g10_c02', 'v_ApplyLipstick_g12_c03', 'v_ApplyLipstick_g13_c01', 'v_ApplyLipstick_g13_c03', 'v_ApplyLipstick_g13_c04', 'v_ApplyLipstick_g14_c03', 'v_ApplyLipstick_g14_c04', 'v_ApplyLipstick_g16_c02', 'v_ApplyLipstick_g16_c05', 'v_ApplyLipstick_g17_c04', 'v_ApplyLipstick_g18_c02', 'v_ApplyLipstick_g18_c03', 'v_ApplyLipstick_g18_c04', 'v_ApplyLipstick_g19_c02', 'v_ApplyLipstick_g20_c03', 'v_ApplyLipstick_g21_c05', 'v_ApplyLipstick_g22_c03', 'v_ApplyLipstick_g24_c03', 'v_ApplyLipstick_g25_c02', 'v_Archery_g01_c05', 'v_Archery_g02_c02', 'v_Archery_g02_c04', 'v_Archery_g04_c01', 'v_Archery_g05_c01', 'v_Archery_g05_c04', 'v_Archery_g06_c03', 'v_Archery_g07_c05', 'v_Archery_g08_c02', 'v_Archery_g09_c06', 'v_Archery_g10_c06', 'v_Archery_g11_c02', 'v_Archery_g11_c04', 'v_Archery_g11_c07', 'v_Archery_g13_c07', 'v_Archery_g15_c04', 'v_Archery_g15_c05', 'v_Archery_g15_c07', 'v_Archery_g16_c05', 'v_Archery_g19_c03', 'v_Archery_g20_c06', 'v_Archery_g20_c07', 'v_Archery_g21_c01', 'v_Archery_g22_c02', 'v_Archery_g23_c02', 'v_Archery_g23_c07', 'v_Archery_g24_c02', 'v_Archery_g24_c03', 'v_Archery_g25_c05', 'v_BabyCrawling_g01_c02', 'v_BabyCrawling_g01_c03', 'v_BabyCrawling_g03_c04', 'v_BabyCrawling_g05_c03', 'v_BabyCrawling_g05_c04', 'v_BabyCrawling_g06_c05', 'v_BabyCrawling_g08_c04', 'v_BabyCrawling_g09_c02', 'v_BabyCrawling_g09_c06', 'v_BabyCrawling_g10_c04', 'v_BabyCrawling_g11_c01', 'v_BabyCrawling_g11_c03', 'v_BabyCrawling_g12_c03', 'v_BabyCrawling_g13_c04', 'v_BabyCrawling_g15_c03', 'v_BabyCrawling_g15_c04', 'v_BabyCrawling_g18_c02', 'v_BabyCrawling_g18_c03', 'v_BabyCrawling_g18_c04', 'v_BabyCrawling_g19_c04', 'v_BabyCrawling_g20_c01', 'v_BabyCrawling_g21_c01', 'v_BabyCrawling_g22_c04', 'v_BabyCrawling_g24_c01', 'v_BabyCrawling_g24_c04', 'v_BabyCrawling_g25_c01', 'v_BabyCrawling_g25_c03', 'v_BabyCrawling_g25_c04', 'v_BalanceBeam_g02_c03', 'v_BalanceBeam_g04_c03', 'v_BalanceBeam_g04_c04', 'v_BalanceBeam_g05_c01', 'v_BalanceBeam_g05_c03', 'v_BalanceBeam_g06_c07', 'v_BalanceBeam_g07_c02', 'v_BalanceBeam_g09_c01', 'v_BalanceBeam_g10_c02', 'v_BalanceBeam_g10_c04', 'v_BalanceBeam_g11_c03', 'v_BalanceBeam_g13_c03', 'v_BalanceBeam_g15_c02', 'v_BalanceBeam_g15_c03', 'v_BalanceBeam_g16_c04', 'v_BalanceBeam_g17_c02', 'v_BalanceBeam_g17_c03', 'v_BalanceBeam_g17_c06', 'v_BalanceBeam_g18_c02', 'v_BalanceBeam_g19_c01', 'v_BalanceBeam_g20_c03', 'v_BalanceBeam_g21_c03', 'v_BalanceBeam_g22_c01', 'v_BalanceBeam_g23_c03', 'v_BandMarching_g01_c02', 'v_BandMarching_g02_c03', 'v_BandMarching_g03_c04', 'v_BandMarching_g03_c07', 'v_BandMarching_g04_c03', 'v_BandMarching_g05_c01', 'v_BandMarching_g05_c03', 'v_BandMarching_g06_c03', 'v_BandMarching_g08_c01', 'v_BandMarching_g08_c06', 'v_BandMarching_g08_c07', 'v_BandMarching_g09_c03', 'v_BandMarching_g10_c07', 'v_BandMarching_g11_c03', 'v_BandMarching_g12_c04', 'v_BandMarching_g13_c03', 'v_BandMarching_g15_c02', 'v_BandMarching_g15_c07', 'v_BandMarching_g16_c07', 'v_BandMarching_g18_c01', 'v_BandMarching_g18_c03', 'v_BandMarching_g18_c06', 'v_BandMarching_g19_c01', 'v_BandMarching_g20_c04', 'v_BandMarching_g21_c02', 'v_BandMarching_g21_c06', 'v_BandMarching_g22_c04', 'v_BandMarching_g24_c02', 'v_BandMarching_g24_c06', 'v_BandMarching_g25_c05', 'v_BandMarching_g25_c06', 'v_BaseballPitch_g01_c05', 'v_BaseballPitch_g02_c03', 'v_BaseballPitch_g05_c07', 'v_BaseballPitch_g06_c02', 'v_BaseballPitch_g06_c04', 'v_BaseballPitch_g06_c06', 'v_BaseballPitch_g07_c01', 'v_BaseballPitch_g07_c02', 'v_BaseballPitch_g07_c04', 'v_BaseballPitch_g08_c05', 'v_BaseballPitch_g08_c06', 'v_BaseballPitch_g09_c04', 'v_BaseballPitch_g12_c03', 'v_BaseballPitch_g13_c01', 'v_BaseballPitch_g13_c04', 'v_BaseballPitch_g15_c01', 'v_BaseballPitch_g15_c02', 'v_BaseballPitch_g16_c01', 'v_BaseballPitch_g17_c03', 'v_BaseballPitch_g17_c07', 'v_BaseballPitch_g18_c02', 'v_BaseballPitch_g18_c05', 'v_BaseballPitch_g19_c04', 'v_BaseballPitch_g20_c01', 'v_BaseballPitch_g20_c04', 'v_BaseballPitch_g21_c02', 'v_BaseballPitch_g21_c03', 'v_BaseballPitch_g22_c01', 'v_BaseballPitch_g23_c02', 'v_BaseballPitch_g25_c07', 'v_Basketball_g02_c06', 'v_Basketball_g03_c02', 'v_Basketball_g03_c03', 'v_Basketball_g04_c01', 'v_Basketball_g04_c04', 'v_Basketball_g05_c04', 'v_Basketball_g06_c01', 'v_Basketball_g06_c02', 'v_Basketball_g09_c04', 'v_Basketball_g11_c02', 'v_Basketball_g12_c01', 'v_Basketball_g13_c04', 'v_Basketball_g14_c05', 'v_Basketball_g15_c05', 'v_Basketball_g16_c02', 'v_Basketball_g16_c05', 'v_Basketball_g17_c02', 'v_Basketball_g18_c03', 'v_Basketball_g19_c01', 'v_Basketball_g19_c03', 'v_Basketball_g20_c06', 'v_Basketball_g21_c05', 'v_Basketball_g22_c07', 'v_Basketball_g23_c04', 'v_Basketball_g23_c06', 'v_Basketball_g24_c03', 'v_Basketball_g24_c04', 'v_Basketball_g25_c02', 'v_Basketball_g25_c05', 'v_Basketball_g25_c07', 'v_BasketballDunk_g01_c03', 'v_BasketballDunk_g01_c07', 'v_BasketballDunk_g03_c02', 'v_BasketballDunk_g03_c05', 'v_BasketballDunk_g05_c04', 'v_BasketballDunk_g07_c02', 'v_BasketballDunk_g11_c04', 'v_BasketballDunk_g12_c04', 'v_BasketballDunk_g14_c04', 'v_BasketballDunk_g14_c06', 'v_BasketballDunk_g15_c05', 'v_BasketballDunk_g15_c07', 'v_BasketballDunk_g16_c05', 'v_BasketballDunk_g17_c02', 'v_BasketballDunk_g18_c03', 'v_BasketballDunk_g20_c03', 'v_BasketballDunk_g20_c05', 'v_BasketballDunk_g21_c02', 'v_BasketballDunk_g21_c04', 'v_BasketballDunk_g22_c01', 'v_BasketballDunk_g22_c04', 'v_BasketballDunk_g23_c01', 'v_BasketballDunk_g23_c03', 'v_BasketballDunk_g24_c01', 'v_BasketballDunk_g24_c05', 'v_BasketballDunk_g25_c01', 'v_BasketballDunk_g25_c04', 'v_BenchPress_g02_c06', 'v_BenchPress_g03_c01', 'v_BenchPress_g03_c04', 'v_BenchPress_g03_c07', 'v_BenchPress_g04_c02', 'v_BenchPress_g05_c01', 'v_BenchPress_g05_c03', 'v_BenchPress_g05_c06', 'v_BenchPress_g07_c04', 'v_BenchPress_g07_c07', 'v_BenchPress_g08_c02', 'v_BenchPress_g08_c06', 'v_BenchPress_g09_c03', 'v_BenchPress_g09_c04', 'v_BenchPress_g09_c06', 'v_BenchPress_g09_c07', 'v_BenchPress_g11_c01', 'v_BenchPress_g12_c01', 'v_BenchPress_g12_c04', 'v_BenchPress_g12_c05', 'v_BenchPress_g13_c04', 'v_BenchPress_g14_c06', 'v_BenchPress_g14_c07', 'v_BenchPress_g16_c05', 'v_BenchPress_g17_c05', 'v_BenchPress_g18_c01', 'v_BenchPress_g20_c02', 'v_BenchPress_g20_c05', 'v_BenchPress_g22_c01', 'v_BenchPress_g22_c02', 'v_BenchPress_g24_c05', 'v_BenchPress_g25_c04', 'v_Biking_g02_c01', 'v_Biking_g03_c04', 'v_Biking_g04_c04', 'v_Biking_g05_c02', 'v_Biking_g07_c03', 'v_Biking_g07_c05', 'v_Biking_g08_c02', 'v_Biking_g08_c05', 'v_Biking_g11_c06', 'v_Biking_g12_c03', 'v_Biking_g13_c02', 'v_Biking_g13_c03', 'v_Biking_g16_c02', 'v_Biking_g16_c05', 'v_Biking_g17_c03', 'v_Biking_g18_c01', 'v_Biking_g18_c04', 'v_Biking_g18_c05', 'v_Biking_g18_c06', 'v_Biking_g19_c02', 'v_Biking_g20_c04', 'v_Biking_g20_c06', 'v_Biking_g21_c02', 'v_Biking_g21_c04', 'v_Biking_g22_c02', 'v_Biking_g23_c03', 'v_Biking_g24_c04', 'v_Biking_g25_c01', 'v_Biking_g25_c03', 'v_Biking_g25_c04', 'v_Billiards_g01_c06', 'v_Billiards_g02_c01', 'v_Billiards_g03_c04', 'v_Billiards_g03_c05', 'v_Billiards_g05_c06', 'v_Billiards_g06_c02', 'v_Billiards_g06_c03', 'v_Billiards_g06_c04', 'v_Billiards_g07_c01', 'v_Billiards_g08_c03', 'v_Billiards_g09_c03', 'v_Billiards_g09_c04', 'v_Billiards_g10_c03', 'v_Billiards_g11_c01', 'v_Billiards_g11_c02', 'v_Billiards_g12_c01', 'v_Billiards_g14_c04', 'v_Billiards_g18_c01', 'v_Billiards_g18_c07', 'v_Billiards_g19_c02', 'v_Billiards_g19_c04', 'v_Billiards_g21_c03', 'v_Billiards_g22_c01', 'v_Billiards_g22_c02', 'v_Billiards_g23_c01', 'v_Billiards_g24_c02', 'v_Billiards_g24_c04', 'v_Billiards_g25_c01', 'v_Billiards_g25_c02', 'v_Billiards_g25_c06', 'v_BlowDryHair_g01_c01', 'v_BlowDryHair_g01_c02', 'v_BlowDryHair_g03_c02', 'v_BlowDryHair_g06_c03', 'v_BlowDryHair_g07_c03', 'v_BlowDryHair_g08_c03', 'v_BlowDryHair_g09_c01', 'v_BlowDryHair_g09_c02', 'v_BlowDryHair_g12_c01', 'v_BlowDryHair_g12_c02', 'v_BlowDryHair_g12_c03', 'v_BlowDryHair_g13_c01', 'v_BlowDryHair_g15_c02', 'v_BlowDryHair_g15_c03', 'v_BlowDryHair_g15_c04', 'v_BlowDryHair_g15_c05', 'v_BlowDryHair_g18_c03', 'v_BlowDryHair_g18_c05', 'v_BlowDryHair_g19_c01', 'v_BlowDryHair_g20_c03', 'v_BlowDryHair_g21_c02', 'v_BlowDryHair_g23_c01', 'v_BlowDryHair_g23_c03', 'v_BlowDryHair_g23_c06', 'v_BlowDryHair_g24_c01', 'v_BlowDryHair_g24_c03', 'v_BlowDryHair_g25_c03', 'v_BlowingCandles_g01_c01', 'v_BlowingCandles_g03_c01', 'v_BlowingCandles_g04_c04', 'v_BlowingCandles_g05_c01', 'v_BlowingCandles_g06_c05', 'v_BlowingCandles_g06_c07', 'v_BlowingCandles_g08_c01', 'v_BlowingCandles_g08_c02', 'v_BlowingCandles_g10_c03', 'v_BlowingCandles_g10_c04', 'v_BlowingCandles_g11_c02', 'v_BlowingCandles_g14_c01', 'v_BlowingCandles_g14_c03', 'v_BlowingCandles_g15_c01', 'v_BlowingCandles_g16_c02', 'v_BlowingCandles_g17_c04', 'v_BlowingCandles_g19_c03', 'v_BlowingCandles_g20_c01', 'v_BlowingCandles_g20_c03', 'v_BlowingCandles_g23_c03', 'v_BlowingCandles_g24_c02', 'v_BlowingCandles_g24_c03', 'v_BlowingCandles_g25_c01', 'v_BlowingCandles_g25_c02', 'v_BlowingCandles_g25_c06', 'v_BodyWeightSquats_g01_c02', 'v_BodyWeightSquats_g01_c03', 'v_BodyWeightSquats_g03_c04', 'v_BodyWeightSquats_g05_c02', 'v_BodyWeightSquats_g05_c03', 'v_BodyWeightSquats_g08_c01', 'v_BodyWeightSquats_g08_c03', 'v_BodyWeightSquats_g08_c04', 'v_BodyWeightSquats_g09_c03', 'v_BodyWeightSquats_g09_c06', 'v_BodyWeightSquats_g09_c07', 'v_BodyWeightSquats_g11_c01', 'v_BodyWeightSquats_g12_c03', 'v_BodyWeightSquats_g13_c02', 'v_BodyWeightSquats_g13_c04', 'v_BodyWeightSquats_g14_c01', 'v_BodyWeightSquats_g15_c04', 'v_BodyWeightSquats_g16_c04', 'v_BodyWeightSquats_g19_c01', 'v_BodyWeightSquats_g22_c04', 'v_BodyWeightSquats_g23_c01', 'v_BodyWeightSquats_g23_c03', 'v_BodyWeightSquats_g23_c04', 'v_BodyWeightSquats_g25_c04', 'v_Bowling_g01_c01', 'v_Bowling_g01_c03', 'v_Bowling_g01_c04', 'v_Bowling_g01_c05', 'v_Bowling_g02_c03', 'v_Bowling_g03_c03', 'v_Bowling_g05_c02', 'v_Bowling_g06_c01', 'v_Bowling_g06_c02', 'v_Bowling_g06_c03', 'v_Bowling_g06_c07', 'v_Bowling_g07_c01', 'v_Bowling_g07_c03', 'v_Bowling_g08_c03', 'v_Bowling_g08_c04', 'v_Bowling_g10_c05', 'v_Bowling_g13_c02', 'v_Bowling_g14_c02', 'v_Bowling_g14_c03', 'v_Bowling_g14_c05', 'v_Bowling_g16_c03', 'v_Bowling_g19_c04', 'v_Bowling_g20_c01', 'v_Bowling_g20_c02', 'v_Bowling_g21_c04', 'v_Bowling_g22_c04', 'v_Bowling_g23_c01', 'v_Bowling_g23_c02', 'v_Bowling_g23_c03', 'v_Bowling_g23_c04', 'v_Bowling_g23_c06', 'v_BoxingPunchingBag_g01_c01', 'v_BoxingPunchingBag_g01_c02', 'v_BoxingPunchingBag_g01_c04', 'v_BoxingPunchingBag_g03_c05', 'v_BoxingPunchingBag_g03_c06', 'v_BoxingPunchingBag_g03_c07', 'v_BoxingPunchingBag_g04_c01', 'v_BoxingPunchingBag_g04_c05', 'v_BoxingPunchingBag_g05_c03', 'v_BoxingPunchingBag_g06_c03', 'v_BoxingPunchingBag_g06_c07', 'v_BoxingPunchingBag_g07_c07', 'v_BoxingPunchingBag_g08_c04', 'v_BoxingPunchingBag_g08_c06', 'v_BoxingPunchingBag_g09_c06', 'v_BoxingPunchingBag_g11_c05', 'v_BoxingPunchingBag_g12_c03', 'v_BoxingPunchingBag_g12_c05', 'v_BoxingPunchingBag_g12_c07', 'v_BoxingPunchingBag_g13_c03', 'v_BoxingPunchingBag_g14_c02', 'v_BoxingPunchingBag_g14_c03', 'v_BoxingPunchingBag_g14_c04', 'v_BoxingPunchingBag_g16_c02', 'v_BoxingPunchingBag_g16_c03', 'v_BoxingPunchingBag_g16_c05', 'v_BoxingPunchingBag_g18_c01', 'v_BoxingPunchingBag_g19_c03', 'v_BoxingPunchingBag_g20_c06', 'v_BoxingPunchingBag_g23_c06', 'v_BoxingPunchingBag_g23_c07', 'v_BoxingPunchingBag_g24_c02', 'v_BoxingPunchingBag_g24_c05', 'v_BoxingPunchingBag_g24_c06', 'v_BoxingPunchingBag_g25_c05', 'v_BoxingSpeedBag_g02_c01', 'v_BoxingSpeedBag_g05_c01', 'v_BoxingSpeedBag_g05_c04', 'v_BoxingSpeedBag_g07_c03', 'v_BoxingSpeedBag_g07_c07', 'v_BoxingSpeedBag_g08_c01', 'v_BoxingSpeedBag_g08_c05', 'v_BoxingSpeedBag_g09_c01', 'v_BoxingSpeedBag_g09_c06', 'v_BoxingSpeedBag_g09_c07', 'v_BoxingSpeedBag_g10_c04', 'v_BoxingSpeedBag_g11_c01', 'v_BoxingSpeedBag_g11_c05', 'v_BoxingSpeedBag_g12_c02', 'v_BoxingSpeedBag_g12_c03', 'v_BoxingSpeedBag_g14_c02', 'v_BoxingSpeedBag_g15_c01', 'v_BoxingSpeedBag_g15_c03', 'v_BoxingSpeedBag_g16_c03', 'v_BoxingSpeedBag_g17_c02', 'v_BoxingSpeedBag_g17_c03', 'v_BoxingSpeedBag_g19_c01', 'v_BoxingSpeedBag_g20_c02', 'v_BoxingSpeedBag_g20_c04', 'v_BoxingSpeedBag_g20_c05', 'v_BoxingSpeedBag_g22_c01', 'v_BoxingSpeedBag_g22_c04', 'v_BoxingSpeedBag_g23_c03', 'v_BoxingSpeedBag_g24_c04', 'v_BoxingSpeedBag_g25_c02', 'v_BreastStroke_g01_c01', 'v_BreastStroke_g01_c02', 'v_BreastStroke_g01_c04', 'v_BreastStroke_g02_c04', 'v_BreastStroke_g03_c01', 'v_BreastStroke_g08_c01', 'v_BreastStroke_g11_c02', 'v_BreastStroke_g11_c03', 'v_BreastStroke_g14_c01', 'v_BreastStroke_g15_c02', 'v_BreastStroke_g17_c02', 'v_BreastStroke_g17_c03', 'v_BreastStroke_g19_c04', 'v_BreastStroke_g21_c02', 'v_BreastStroke_g22_c03', 'v_BreastStroke_g22_c04', 'v_BreastStroke_g23_c02', 'v_BreastStroke_g23_c03', 'v_BreastStroke_g23_c04', 'v_BreastStroke_g24_c02', 'v_BreastStroke_g24_c04', 'v_BrushingTeeth_g02_c03', 'v_BrushingTeeth_g02_c07', 'v_BrushingTeeth_g04_c01', 'v_BrushingTeeth_g05_c01', 'v_BrushingTeeth_g08_c01', 'v_BrushingTeeth_g08_c06', 'v_BrushingTeeth_g09_c03', 'v_BrushingTeeth_g10_c03', 'v_BrushingTeeth_g13_c02', 'v_BrushingTeeth_g13_c04', 'v_BrushingTeeth_g14_c01', 'v_BrushingTeeth_g14_c02', 'v_BrushingTeeth_g15_c03', 'v_BrushingTeeth_g17_c01', 'v_BrushingTeeth_g17_c04', 'v_BrushingTeeth_g18_c03', 'v_BrushingTeeth_g19_c03', 'v_BrushingTeeth_g19_c04', 'v_BrushingTeeth_g21_c03', 'v_BrushingTeeth_g22_c05', 'v_BrushingTeeth_g23_c02', 'v_BrushingTeeth_g23_c03', 'v_BrushingTeeth_g23_c04', 'v_BrushingTeeth_g24_c03', 'v_BrushingTeeth_g24_c04', 'v_BrushingTeeth_g24_c07', 'v_BrushingTeeth_g25_c05', 'v_CleanAndJerk_g01_c02', 'v_CleanAndJerk_g01_c03', 'v_CleanAndJerk_g02_c02', 'v_CleanAndJerk_g02_c03', 'v_CleanAndJerk_g04_c01', 'v_CleanAndJerk_g04_c02', 'v_CleanAndJerk_g04_c05', 'v_CleanAndJerk_g06_c01', 'v_CleanAndJerk_g06_c03', 'v_CleanAndJerk_g07_c02', 'v_CleanAndJerk_g08_c04', 'v_CleanAndJerk_g11_c01', 'v_CleanAndJerk_g11_c03', 'v_CleanAndJerk_g11_c04', 'v_CleanAndJerk_g14_c04', 'v_CleanAndJerk_g14_c05', 'v_CleanAndJerk_g14_c06', 'v_CleanAndJerk_g16_c01', 'v_CleanAndJerk_g17_c02']\n",
      "共585 个视频\n"
     ]
    }
   ],
   "source": [
    "cates = os.listdir(img_path)\n",
    "train_list = []\n",
    "test_list = []\n",
    "# 遍历所有的动作类型\n",
    "for cate in cates:\n",
    "    videos = os.listdir(os.path.join(img_path, cate))\n",
    "    length = len(videos)//5\n",
    "    # 训练集大小，随机取视频文件加入训练集\n",
    "    train= random.sample(videos, length*4)\n",
    "    train_list.extend(train)\n",
    "    # 将余下的视频加入测试集\n",
    "    for video in videos:\n",
    "        if video not in train:\n",
    "            test_list.append(video)\n",
    "print(\"训练集为：\")    \n",
    "print( train_list)\n",
    "print(\"共%d 个视频\\n\"%(len(train_list)))\n",
    "print(\"验证集为：\")            \n",
    "print(test_list)\n",
    "print(\"共%d 个视频\"%(len(test_list)))"
   ]
  },
  {
   "cell_type": "code",
   "execution_count": 13,
   "metadata": {},
   "outputs": [],
   "source": [
    "# 保存数据\n",
    "def writeData(datalist,savepath):\n",
    "    index = 1\n",
    "    for data in datalist:\n",
    "        with open(savepath, mode=\"a\", encoding=\"utf-8\") as f:\n",
    "            f.write(str(index) + ' ' + data)   #写数据\n",
    "            f.write(\"\\n\")   #换行\n",
    "        index = index + 1\n",
    "    f.close()\n",
    "writeData(cates,\"E:\\\\train_data\\\\classInd\\\\classInd.txt\")"
   ]
  },
  {
   "cell_type": "code",
   "execution_count": 13,
   "metadata": {},
   "outputs": [],
   "source": [
    "# file 是一个文件夹 包含一个短视频的所有帧的图片\n",
    "def process_data(img_path, file, batch_size=16, train=True):\n",
    "    # 一个batch包含16帧的图片信息数据\n",
    "    batch = np.zeros((batch_size,16,112,112,3),dtype='float32')\n",
    "    # 定义标签\n",
    "    labels = np.zeros(batch_size,dtype=int)\n",
    "    # 目录结构\n",
    "    cate_list = os.listdir(img_path)\n",
    "    # 读取类别词典\n",
    "    def read_classes():\n",
    "        path = \"E:\\\\train_data\\\\classInd\\\\classInd.txt\"\n",
    "        with open(path, \"r+\") as f:\n",
    "            lines = f.readlines()\n",
    "        classes = {}\n",
    "        for line in lines:\n",
    "            c_id = line.split()[0]\n",
    "            c_name = line.split()[1]\n",
    "            classes[c_name] =c_id \n",
    "        return classes\n",
    "    \n",
    "    classes_dict = read_classes()\n",
    "    # 对一个视频中的所有帧进行读取\n",
    "    cate = file.split(\"_\")[1]\n",
    "    img_list = os.listdir(os.path.join(img_path, cate, file))    # E:\\train_data\\jpgs\\ApplyEyeMakeup\\v_ApplyEyeMakeup_g04_c01\\...jpg\n",
    "    img_list.sort()\n",
    "    batch_img = []\n",
    "    # # 分多少块 多少个16帧\n",
    "    # symbol = len(img_list)//16\n",
    "    index = 0\n",
    "    path = os.path.join(img_path, cate, file)\n",
    "    label =  int(classes_dict[cate])-1\n",
    "    for i in range(batch_size):\n",
    "        # symbol = len(img_list)//16\n",
    "        if train:\n",
    "            # 随机进行裁剪\n",
    "            crop_x = random.randint(0, 15)\n",
    "            crop_y = random.randint(0, 58)\n",
    "            # 随机进行翻转\n",
    "            is_flip = random.randint(0, 1)\n",
    "            # 以16 帧为单位\n",
    "            for j in range(16):\n",
    "                if len(img_list) - index * 16 < 16:\n",
    "                    break\n",
    "                img = img_list[index * 16 + j]\n",
    "                image = cv2.imread( path + '/' + img)\n",
    "                image = cv2.cvtColor(image, cv2.COLOR_BGR2RGB)\n",
    "                image = cv2.resize(image, (171, 128))\n",
    "                if is_flip == 1:\n",
    "                    image = cv2.flip(image, 1)\n",
    "                batch[i][j][:][:][:] = image[crop_x:crop_x + 112, crop_y:crop_y + 112, :]\n",
    "                # symbol-=1\n",
    "                # if symbol<0:\n",
    "                #     break\n",
    "        # 不是训练集则不进行旋转 随机裁剪等处理\n",
    "        else:\n",
    "            for j in range(16):\n",
    "                if len(img_list) - index * 16 < 16:\n",
    "                    break\n",
    "                img = img_list[index * 16 + j]\n",
    "                image = cv2.imread( path + '/' + img)\n",
    "                image = cv2.cvtColor(image, cv2.COLOR_BGR2RGB)\n",
    "                image = cv2.resize(image, (171, 128))\n",
    "                batch[i][j][:][:][:] = image[8:120, 30:142, :]\n",
    "                # symbol-=1\n",
    "                # if symbol<0:\n",
    "                #     break\n",
    "        labels[i] = label\n",
    "        index+=1\n",
    "    return batch, labels\n",
    "\n"
   ]
  },
  {
   "attachments": {},
   "cell_type": "markdown",
   "metadata": {},
   "source": [
    "该Process_data是处理一个batch的"
   ]
  },
  {
   "cell_type": "code",
   "execution_count": 15,
   "metadata": {},
   "outputs": [
    {
     "name": "stdout",
     "output_type": "stream",
     "text": [
      "每个batch的形状为：(16, 16, 112, 112, 3)\n",
      "每个label的形状为：(16,)\n"
     ]
    }
   ],
   "source": [
    "# batch, labels = process_data(img_path, train_list)\n",
    "\n",
    "# print(\"每个batch的形状为：%s\"%(str(batch.shape)))\n",
    "# print(\"每个label的形状为：%s\"%(str(labels.shape)))"
   ]
  },
  {
   "cell_type": "code",
   "execution_count": 10,
   "metadata": {},
   "outputs": [],
   "source": [
    "def preprocess(inputs):\n",
    "    inputs[..., 0] -= 99.9\n",
    "    inputs[..., 1] -= 92.1\n",
    "    inputs[..., 2] -= 82.6\n",
    "    inputs[..., 0] /= 65.8\n",
    "    inputs[..., 1] /= 62.3\n",
    "    inputs[..., 2] /= 60.3\n",
    "    return inputs"
   ]
  },
  {
   "cell_type": "code",
   "execution_count": 11,
   "metadata": {},
   "outputs": [],
   "source": [
    "def generator_train_batch(train_list, batch_size, num_classes, img_path):\n",
    "    for file in train_list:\n",
    "        # 读取一个batch的数据\n",
    "        x_train, x_labels = process_data(img_path, file, batch_size,train=True) \n",
    "        x = preprocess(x_train)\n",
    "        # 形成input要求的数据格式\n",
    "        y = np_utils.to_categorical(np.array(x_labels), num_classes)\n",
    "        # 将数据转置成模型所对应的shape\n",
    "        x = np.transpose(x, (0,2,3,1,4))\n",
    "        yield x, y\n",
    "def generator_val_batch(test_list, batch_size, num_classes, img_path):\n",
    "    for file in test_list:\n",
    "        # 读取一个batch的数据\n",
    "        y_test,y_labels = process_data(img_path, file, batch_size,train=False)\n",
    "        x = preprocess(y_test)\n",
    "        # 形成input要求的数据格式\n",
    "        x = np.transpose(x,(0,2,3,1,4))\n",
    "        y = np_utils.to_categorical(np.array(y_labels), num_classes)\n",
    "        yield x, y"
   ]
  },
  {
   "cell_type": "code",
   "execution_count": 16,
   "metadata": {},
   "outputs": [],
   "source": [
    "# 训练一个epoch大约需4分钟\n",
    "# 类别数量\n",
    "num_classes = 21\n",
    "# batch大小\n",
    "batch_size = 16\n",
    "# epoch数量\n",
    "epochs = 1\n",
    "# 学习率大小\n",
    "lr = 0.00001\n",
    "# 优化器定义\n",
    "sgd = SGD(lr=lr, momentum=0.9, nesterov=True)\n",
    "model.compile(loss='categorical_crossentropy', optimizer=sgd, metrics=['accuracy'])"
   ]
  },
  {
   "cell_type": "code",
   "execution_count": 14,
   "metadata": {},
   "outputs": [
    {
     "name": "stdout",
     "output_type": "stream",
     "text": [
      "(16, 112, 112, 16, 3)\n",
      "(16, 21)\n",
      "********************\n"
     ]
    }
   ],
   "source": [
    "generator = generator_train_batch(train_list, batch_size, num_classes,img_path)\n",
    "x , y = next(generator)\n",
    "print(x.shape)\n",
    "print(y.shape)\n",
    "print('*' * 20)"
   ]
  },
  {
   "cell_type": "code",
   "execution_count": 17,
   "metadata": {},
   "outputs": [
    {
     "name": "stderr",
     "output_type": "stream",
     "text": [
      "C:\\Users\\86181\\AppData\\Local\\Temp\\ipykernel_17640\\964565234.py:3: UserWarning: `Model.fit_generator` is deprecated and will be removed in a future version. Please use `Model.fit`, which supports generators.\n",
      "  history = model.fit_generator(generator_train_batch(train_list, batch_size, num_classes,img_path),\n"
     ]
    },
    {
     "name": "stdout",
     "output_type": "stream",
     "text": [
      "  5/137 [>.............................] - ETA: 2:01:08 - loss: 332.0240 - accuracy: 1.0000"
     ]
    }
   ],
   "source": [
    "# 开始训练\n",
    "# steps_per_epochs:是指在每个epoch中生成器执行生成数据的次数\n",
    "history = model.fit_generator(generator_train_batch(train_list, batch_size, num_classes,img_path),\n",
    "                              steps_per_epoch= len(train_list) // batch_size,\n",
    "                              epochs=epochs,\n",
    "                              callbacks=None,\n",
    "                              validation_data=generator_val_batch(test_list, batch_size,num_classes,img_path),\n",
    "                              validation_steps= len(test_list) // batch_size,\n",
    "                              verbose=1)\n",
    "# 对训练结果进行保存\n",
    "model.save_weights(os.path.join(results_path, 'weights_c3d.h5'))"
   ]
  }
 ],
 "metadata": {
  "kernelspec": {
   "display_name": "base",
   "language": "python",
   "name": "python3"
  },
  "language_info": {
   "codemirror_mode": {
    "name": "ipython",
    "version": 3
   },
   "file_extension": ".py",
   "mimetype": "text/x-python",
   "name": "python",
   "nbconvert_exporter": "python",
   "pygments_lexer": "ipython3",
   "version": "3.9.16"
  },
  "orig_nbformat": 4
 },
 "nbformat": 4,
 "nbformat_minor": 2
}
